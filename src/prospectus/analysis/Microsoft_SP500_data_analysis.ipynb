{
 "cells": [
  {
   "cell_type": "code",
   "execution_count": 17,
   "metadata": {},
   "outputs": [],
   "source": [
    "import pandas as pd\n",
    "import numpy as np\n",
    "import matplotlib.pyplot as plt\n",
    "from matplotlib.pyplot import figure"
   ]
  },
  {
   "cell_type": "code",
   "execution_count": 18,
   "metadata": {},
   "outputs": [],
   "source": [
    "dataset_folder = \"../../../dataset/\""
   ]
  },
  {
   "cell_type": "markdown",
   "metadata": {},
   "source": [
    "# Microsoft Close Stock Price analysis"
   ]
  },
  {
   "cell_type": "code",
   "execution_count": 19,
   "metadata": {},
   "outputs": [],
   "source": [
    "microsoft_df = pd.read_csv(dataset_folder + \"Microsoft_Stock.csv\")"
   ]
  },
  {
   "cell_type": "code",
   "execution_count": 20,
   "metadata": {},
   "outputs": [
    {
     "data": {
      "text/html": [
       "<div>\n",
       "<style scoped>\n",
       "    .dataframe tbody tr th:only-of-type {\n",
       "        vertical-align: middle;\n",
       "    }\n",
       "\n",
       "    .dataframe tbody tr th {\n",
       "        vertical-align: top;\n",
       "    }\n",
       "\n",
       "    .dataframe thead th {\n",
       "        text-align: right;\n",
       "    }\n",
       "</style>\n",
       "<table border=\"1\" class=\"dataframe\">\n",
       "  <thead>\n",
       "    <tr style=\"text-align: right;\">\n",
       "      <th></th>\n",
       "      <th>Close</th>\n",
       "    </tr>\n",
       "    <tr>\n",
       "      <th>Date</th>\n",
       "      <th></th>\n",
       "    </tr>\n",
       "  </thead>\n",
       "  <tbody>\n",
       "    <tr>\n",
       "      <th>2015-04-01 16:00:00</th>\n",
       "      <td>40.72</td>\n",
       "    </tr>\n",
       "    <tr>\n",
       "      <th>2015-04-02 16:00:00</th>\n",
       "      <td>40.29</td>\n",
       "    </tr>\n",
       "    <tr>\n",
       "      <th>2015-04-06 16:00:00</th>\n",
       "      <td>41.55</td>\n",
       "    </tr>\n",
       "    <tr>\n",
       "      <th>2015-04-07 16:00:00</th>\n",
       "      <td>41.53</td>\n",
       "    </tr>\n",
       "    <tr>\n",
       "      <th>2015-04-08 16:00:00</th>\n",
       "      <td>41.42</td>\n",
       "    </tr>\n",
       "    <tr>\n",
       "      <th>...</th>\n",
       "      <td>...</td>\n",
       "    </tr>\n",
       "    <tr>\n",
       "      <th>2021-03-25 16:00:00</th>\n",
       "      <td>232.34</td>\n",
       "    </tr>\n",
       "    <tr>\n",
       "      <th>2021-03-26 16:00:00</th>\n",
       "      <td>236.48</td>\n",
       "    </tr>\n",
       "    <tr>\n",
       "      <th>2021-03-29 16:00:00</th>\n",
       "      <td>235.24</td>\n",
       "    </tr>\n",
       "    <tr>\n",
       "      <th>2021-03-30 16:00:00</th>\n",
       "      <td>231.85</td>\n",
       "    </tr>\n",
       "    <tr>\n",
       "      <th>2021-03-31 16:00:00</th>\n",
       "      <td>235.77</td>\n",
       "    </tr>\n",
       "  </tbody>\n",
       "</table>\n",
       "<p>1511 rows × 1 columns</p>\n",
       "</div>"
      ],
      "text/plain": [
       "                      Close\n",
       "Date                       \n",
       "2015-04-01 16:00:00   40.72\n",
       "2015-04-02 16:00:00   40.29\n",
       "2015-04-06 16:00:00   41.55\n",
       "2015-04-07 16:00:00   41.53\n",
       "2015-04-08 16:00:00   41.42\n",
       "...                     ...\n",
       "2021-03-25 16:00:00  232.34\n",
       "2021-03-26 16:00:00  236.48\n",
       "2021-03-29 16:00:00  235.24\n",
       "2021-03-30 16:00:00  231.85\n",
       "2021-03-31 16:00:00  235.77\n",
       "\n",
       "[1511 rows x 1 columns]"
      ]
     },
     "execution_count": 20,
     "metadata": {},
     "output_type": "execute_result"
    }
   ],
   "source": [
    "microsoft_df['Date'] = pd.to_datetime(microsoft_df['Date'])\n",
    "microsoft_df.set_index('Date',inplace=True)\n",
    "microsoft_df.drop(columns=['Open','High','Low','Volume'],inplace=True)\n",
    "microsoft_df"
   ]
  },
  {
   "cell_type": "markdown",
   "metadata": {},
   "source": [
    "### We will use Date and Close column for Time-series Analysis"
   ]
  },
  {
   "cell_type": "code",
   "execution_count": 21,
   "metadata": {},
   "outputs": [
    {
     "data": {
      "text/plain": [
       "<Figure size 640x480 with 0 Axes>"
      ]
     },
     "execution_count": 21,
     "metadata": {},
     "output_type": "execute_result"
    },
    {
     "data": {
      "image/png": "[encoded data removed]",
      "text/plain": [
       "<Figure size 432x288 with 1 Axes>"
      ]
     },
     "metadata": {
      "needs_background": "light"
     },
     "output_type": "display_data"
    },
    {
     "data": {
      "text/plain": [
       "<Figure size 640x480 with 0 Axes>"
      ]
     },
     "metadata": {},
     "output_type": "display_data"
    }
   ],
   "source": [
    "plt.plot(microsoft_df['Close'])\n",
    "plt.title('Microsoft Close Stock Prices (in USD)')\n",
    "x = microsoft_df.index\n",
    "plt.xticks(x[::200],rotation=45)\n",
    "plt.xlabel('Date')\n",
    "plt.ylabel('Price (USD)')\n",
    "figure(figsize=(8, 6), dpi=80)\n"
   ]
  },
  {
   "cell_type": "code",
   "execution_count": 22,
   "metadata": {},
   "outputs": [
    {
     "data": {
      "text/plain": [
       "DatetimeIndex(['2015-04-01 16:00:00', '2015-04-02 16:00:00',\n",
       "               '2015-04-06 16:00:00', '2015-04-07 16:00:00',\n",
       "               '2015-04-08 16:00:00', '2015-04-09 16:00:00',\n",
       "               '2015-04-10 16:00:00', '2015-04-13 16:00:00',\n",
       "               '2015-04-14 16:00:00', '2015-04-15 16:00:00',\n",
       "               ...\n",
       "               '2021-03-18 16:00:00', '2021-03-19 16:00:00',\n",
       "               '2021-03-22 16:00:00', '2021-03-23 16:00:00',\n",
       "               '2021-03-24 16:00:00', '2021-03-25 16:00:00',\n",
       "               '2021-03-26 16:00:00', '2021-03-29 16:00:00',\n",
       "               '2021-03-30 16:00:00', '2021-03-31 16:00:00'],\n",
       "              dtype='datetime64[ns]', name='Date', length=1511, freq=None)"
      ]
     },
     "execution_count": 22,
     "metadata": {},
     "output_type": "execute_result"
    }
   ],
   "source": [
    "x"
   ]
  },
  {
   "cell_type": "markdown",
   "metadata": {},
   "source": [
    "### Descriptive statistics"
   ]
  },
  {
   "cell_type": "code",
   "execution_count": 23,
   "metadata": {},
   "outputs": [
    {
     "data": {
      "text/html": [
       "<div>\n",
       "<style scoped>\n",
       "    .dataframe tbody tr th:only-of-type {\n",
       "        vertical-align: middle;\n",
       "    }\n",
       "\n",
       "    .dataframe tbody tr th {\n",
       "        vertical-align: top;\n",
       "    }\n",
       "\n",
       "    .dataframe thead th {\n",
       "        text-align: right;\n",
       "    }\n",
       "</style>\n",
       "<table border=\"1\" class=\"dataframe\">\n",
       "  <thead>\n",
       "    <tr style=\"text-align: right;\">\n",
       "      <th></th>\n",
       "      <th>Close</th>\n",
       "    </tr>\n",
       "  </thead>\n",
       "  <tbody>\n",
       "    <tr>\n",
       "      <th>count</th>\n",
       "      <td>1511.000000</td>\n",
       "    </tr>\n",
       "    <tr>\n",
       "      <th>mean</th>\n",
       "      <td>107.422091</td>\n",
       "    </tr>\n",
       "    <tr>\n",
       "      <th>std</th>\n",
       "      <td>56.702299</td>\n",
       "    </tr>\n",
       "    <tr>\n",
       "      <th>min</th>\n",
       "      <td>40.290000</td>\n",
       "    </tr>\n",
       "    <tr>\n",
       "      <th>25%</th>\n",
       "      <td>57.855000</td>\n",
       "    </tr>\n",
       "    <tr>\n",
       "      <th>50%</th>\n",
       "      <td>93.860000</td>\n",
       "    </tr>\n",
       "    <tr>\n",
       "      <th>75%</th>\n",
       "      <td>138.965000</td>\n",
       "    </tr>\n",
       "    <tr>\n",
       "      <th>max</th>\n",
       "      <td>244.990000</td>\n",
       "    </tr>\n",
       "  </tbody>\n",
       "</table>\n",
       "</div>"
      ],
      "text/plain": [
       "             Close\n",
       "count  1511.000000\n",
       "mean    107.422091\n",
       "std      56.702299\n",
       "min      40.290000\n",
       "25%      57.855000\n",
       "50%      93.860000\n",
       "75%     138.965000\n",
       "max     244.990000"
      ]
     },
     "execution_count": 23,
     "metadata": {},
     "output_type": "execute_result"
    }
   ],
   "source": [
    "microsoft_df.describe()"
   ]
  },
  {
   "cell_type": "code",
   "execution_count": 24,
   "metadata": {},
   "outputs": [
    {
     "data": {
      "text/plain": [
       "Close    0\n",
       "dtype: int64"
      ]
     },
     "execution_count": 24,
     "metadata": {},
     "output_type": "execute_result"
    }
   ],
   "source": [
    "microsoft_df.isnull().sum()"
   ]
  },
  {
   "cell_type": "markdown",
   "metadata": {},
   "source": [
    "### Time-series decomposition: Seasonality, Trend, Noise"
   ]
  },
  {
   "cell_type": "code",
   "execution_count": 25,
   "metadata": {},
   "outputs": [
    {
     "data": {
      "image/png": "[encoded data removed]",
      "text/plain": [
       "<Figure size 432x288 with 1 Axes>"
      ]
     },
     "metadata": {
      "needs_background": "light"
     },
     "output_type": "display_data"
    }
   ],
   "source": [
    "from statsmodels.tsa.seasonal import seasonal_decompose\n",
    "from pylab import rcParams\n",
    "# rcParams['figure.figsize'] = 14, 9\n",
    "\n",
    "result = seasonal_decompose(microsoft_df,period=365)\n",
    "result.trend.plot()\n",
    "plt.show()"
   ]
  },
  {
   "cell_type": "markdown",
   "metadata": {},
   "source": [
    "### A clear trend exists in the data."
   ]
  },
  {
   "cell_type": "markdown",
   "metadata": {},
   "source": [
    "# S&P 500 Index analysis"
   ]
  },
  {
   "cell_type": "code",
   "execution_count": 26,
   "metadata": {},
   "outputs": [],
   "source": [
    "sp500_df = pd.read_csv(dataset_folder + 'S&P500.csv')"
   ]
  },
  {
   "cell_type": "code",
   "execution_count": 27,
   "metadata": {},
   "outputs": [
    {
     "data": {
      "text/html": [
       "<div>\n",
       "<style scoped>\n",
       "    .dataframe tbody tr th:only-of-type {\n",
       "        vertical-align: middle;\n",
       "    }\n",
       "\n",
       "    .dataframe tbody tr th {\n",
       "        vertical-align: top;\n",
       "    }\n",
       "\n",
       "    .dataframe thead th {\n",
       "        text-align: right;\n",
       "    }\n",
       "</style>\n",
       "<table border=\"1\" class=\"dataframe\">\n",
       "  <thead>\n",
       "    <tr style=\"text-align: right;\">\n",
       "      <th></th>\n",
       "      <th>Date</th>\n",
       "      <th>SP500</th>\n",
       "      <th>Dividend</th>\n",
       "      <th>Earnings</th>\n",
       "      <th>Consumer Price Index</th>\n",
       "      <th>Long Interest Rate</th>\n",
       "      <th>Real Price</th>\n",
       "      <th>Real Dividend</th>\n",
       "      <th>Real Earnings</th>\n",
       "      <th>PE10</th>\n",
       "    </tr>\n",
       "  </thead>\n",
       "  <tbody>\n",
       "    <tr>\n",
       "      <th>0</th>\n",
       "      <td>1871-01-01</td>\n",
       "      <td>4.44</td>\n",
       "      <td>0.26</td>\n",
       "      <td>0.40</td>\n",
       "      <td>12.46</td>\n",
       "      <td>5.32</td>\n",
       "      <td>89.00</td>\n",
       "      <td>5.21</td>\n",
       "      <td>8.02</td>\n",
       "      <td>NaN</td>\n",
       "    </tr>\n",
       "    <tr>\n",
       "      <th>1</th>\n",
       "      <td>1871-02-01</td>\n",
       "      <td>4.50</td>\n",
       "      <td>0.26</td>\n",
       "      <td>0.40</td>\n",
       "      <td>12.84</td>\n",
       "      <td>5.32</td>\n",
       "      <td>87.53</td>\n",
       "      <td>5.06</td>\n",
       "      <td>7.78</td>\n",
       "      <td>NaN</td>\n",
       "    </tr>\n",
       "    <tr>\n",
       "      <th>2</th>\n",
       "      <td>1871-03-01</td>\n",
       "      <td>4.61</td>\n",
       "      <td>0.26</td>\n",
       "      <td>0.40</td>\n",
       "      <td>13.03</td>\n",
       "      <td>5.33</td>\n",
       "      <td>88.36</td>\n",
       "      <td>4.98</td>\n",
       "      <td>7.67</td>\n",
       "      <td>NaN</td>\n",
       "    </tr>\n",
       "    <tr>\n",
       "      <th>3</th>\n",
       "      <td>1871-04-01</td>\n",
       "      <td>4.74</td>\n",
       "      <td>0.26</td>\n",
       "      <td>0.40</td>\n",
       "      <td>12.56</td>\n",
       "      <td>5.33</td>\n",
       "      <td>94.29</td>\n",
       "      <td>5.17</td>\n",
       "      <td>7.96</td>\n",
       "      <td>NaN</td>\n",
       "    </tr>\n",
       "    <tr>\n",
       "      <th>4</th>\n",
       "      <td>1871-05-01</td>\n",
       "      <td>4.86</td>\n",
       "      <td>0.26</td>\n",
       "      <td>0.40</td>\n",
       "      <td>12.27</td>\n",
       "      <td>5.33</td>\n",
       "      <td>98.93</td>\n",
       "      <td>5.29</td>\n",
       "      <td>8.14</td>\n",
       "      <td>NaN</td>\n",
       "    </tr>\n",
       "    <tr>\n",
       "      <th>...</th>\n",
       "      <td>...</td>\n",
       "      <td>...</td>\n",
       "      <td>...</td>\n",
       "      <td>...</td>\n",
       "      <td>...</td>\n",
       "      <td>...</td>\n",
       "      <td>...</td>\n",
       "      <td>...</td>\n",
       "      <td>...</td>\n",
       "      <td>...</td>\n",
       "    </tr>\n",
       "    <tr>\n",
       "      <th>1763</th>\n",
       "      <td>2017-12-01</td>\n",
       "      <td>2664.34</td>\n",
       "      <td>48.93</td>\n",
       "      <td>109.88</td>\n",
       "      <td>246.52</td>\n",
       "      <td>2.40</td>\n",
       "      <td>2700.13</td>\n",
       "      <td>49.59</td>\n",
       "      <td>111.36</td>\n",
       "      <td>32.09</td>\n",
       "    </tr>\n",
       "    <tr>\n",
       "      <th>1764</th>\n",
       "      <td>2018-01-01</td>\n",
       "      <td>2789.80</td>\n",
       "      <td>49.29</td>\n",
       "      <td>NaN</td>\n",
       "      <td>247.87</td>\n",
       "      <td>2.58</td>\n",
       "      <td>2811.96</td>\n",
       "      <td>49.68</td>\n",
       "      <td>NaN</td>\n",
       "      <td>33.31</td>\n",
       "    </tr>\n",
       "    <tr>\n",
       "      <th>1765</th>\n",
       "      <td>2018-02-01</td>\n",
       "      <td>2705.16</td>\n",
       "      <td>49.64</td>\n",
       "      <td>NaN</td>\n",
       "      <td>248.99</td>\n",
       "      <td>2.86</td>\n",
       "      <td>2714.34</td>\n",
       "      <td>49.81</td>\n",
       "      <td>NaN</td>\n",
       "      <td>32.12</td>\n",
       "    </tr>\n",
       "    <tr>\n",
       "      <th>1766</th>\n",
       "      <td>2018-03-01</td>\n",
       "      <td>2702.77</td>\n",
       "      <td>50.00</td>\n",
       "      <td>NaN</td>\n",
       "      <td>249.55</td>\n",
       "      <td>2.84</td>\n",
       "      <td>2705.82</td>\n",
       "      <td>50.06</td>\n",
       "      <td>NaN</td>\n",
       "      <td>31.99</td>\n",
       "    </tr>\n",
       "    <tr>\n",
       "      <th>1767</th>\n",
       "      <td>2018-04-01</td>\n",
       "      <td>2642.19</td>\n",
       "      <td>NaN</td>\n",
       "      <td>NaN</td>\n",
       "      <td>249.84</td>\n",
       "      <td>2.80</td>\n",
       "      <td>2642.19</td>\n",
       "      <td>NaN</td>\n",
       "      <td>NaN</td>\n",
       "      <td>31.19</td>\n",
       "    </tr>\n",
       "  </tbody>\n",
       "</table>\n",
       "<p>1768 rows × 10 columns</p>\n",
       "</div>"
      ],
      "text/plain": [
       "            Date    SP500  Dividend  Earnings  Consumer Price Index  \\\n",
       "0     1871-01-01     4.44      0.26      0.40                 12.46   \n",
       "1     1871-02-01     4.50      0.26      0.40                 12.84   \n",
       "2     1871-03-01     4.61      0.26      0.40                 13.03   \n",
       "3     1871-04-01     4.74      0.26      0.40                 12.56   \n",
       "4     1871-05-01     4.86      0.26      0.40                 12.27   \n",
       "...          ...      ...       ...       ...                   ...   \n",
       "1763  2017-12-01  2664.34     48.93    109.88                246.52   \n",
       "1764  2018-01-01  2789.80     49.29       NaN                247.87   \n",
       "1765  2018-02-01  2705.16     49.64       NaN                248.99   \n",
       "1766  2018-03-01  2702.77     50.00       NaN                249.55   \n",
       "1767  2018-04-01  2642.19       NaN       NaN                249.84   \n",
       "\n",
       "      Long Interest Rate  Real Price  Real Dividend  Real Earnings   PE10  \n",
       "0                   5.32       89.00           5.21           8.02    NaN  \n",
       "1                   5.32       87.53           5.06           7.78    NaN  \n",
       "2                   5.33       88.36           4.98           7.67    NaN  \n",
       "3                   5.33       94.29           5.17           7.96    NaN  \n",
       "4                   5.33       98.93           5.29           8.14    NaN  \n",
       "...                  ...         ...            ...            ...    ...  \n",
       "1763                2.40     2700.13          49.59         111.36  32.09  \n",
       "1764                2.58     2811.96          49.68            NaN  33.31  \n",
       "1765                2.86     2714.34          49.81            NaN  32.12  \n",
       "1766                2.84     2705.82          50.06            NaN  31.99  \n",
       "1767                2.80     2642.19            NaN            NaN  31.19  \n",
       "\n",
       "[1768 rows x 10 columns]"
      ]
     },
     "execution_count": 27,
     "metadata": {},
     "output_type": "execute_result"
    }
   ],
   "source": [
    "sp500_df"
   ]
  },
  {
   "cell_type": "code",
   "execution_count": 12,
   "metadata": {},
   "outputs": [
    {
     "data": {
      "text/html": [
       "<div>\n",
       "<style scoped>\n",
       "    .dataframe tbody tr th:only-of-type {\n",
       "        vertical-align: middle;\n",
       "    }\n",
       "\n",
       "    .dataframe tbody tr th {\n",
       "        vertical-align: top;\n",
       "    }\n",
       "\n",
       "    .dataframe thead th {\n",
       "        text-align: right;\n",
       "    }\n",
       "</style>\n",
       "<table border=\"1\" class=\"dataframe\">\n",
       "  <thead>\n",
       "    <tr style=\"text-align: right;\">\n",
       "      <th></th>\n",
       "      <th>SP500</th>\n",
       "    </tr>\n",
       "    <tr>\n",
       "      <th>Date</th>\n",
       "      <th></th>\n",
       "    </tr>\n",
       "  </thead>\n",
       "  <tbody>\n",
       "    <tr>\n",
       "      <th>1871-01-01</th>\n",
       "      <td>4.44</td>\n",
       "    </tr>\n",
       "    <tr>\n",
       "      <th>1871-02-01</th>\n",
       "      <td>4.50</td>\n",
       "    </tr>\n",
       "    <tr>\n",
       "      <th>1871-03-01</th>\n",
       "      <td>4.61</td>\n",
       "    </tr>\n",
       "    <tr>\n",
       "      <th>1871-04-01</th>\n",
       "      <td>4.74</td>\n",
       "    </tr>\n",
       "    <tr>\n",
       "      <th>1871-05-01</th>\n",
       "      <td>4.86</td>\n",
       "    </tr>\n",
       "    <tr>\n",
       "      <th>...</th>\n",
       "      <td>...</td>\n",
       "    </tr>\n",
       "    <tr>\n",
       "      <th>2017-12-01</th>\n",
       "      <td>2664.34</td>\n",
       "    </tr>\n",
       "    <tr>\n",
       "      <th>2018-01-01</th>\n",
       "      <td>2789.80</td>\n",
       "    </tr>\n",
       "    <tr>\n",
       "      <th>2018-02-01</th>\n",
       "      <td>2705.16</td>\n",
       "    </tr>\n",
       "    <tr>\n",
       "      <th>2018-03-01</th>\n",
       "      <td>2702.77</td>\n",
       "    </tr>\n",
       "    <tr>\n",
       "      <th>2018-04-01</th>\n",
       "      <td>2642.19</td>\n",
       "    </tr>\n",
       "  </tbody>\n",
       "</table>\n",
       "<p>1768 rows × 1 columns</p>\n",
       "</div>"
      ],
      "text/plain": [
       "              SP500\n",
       "Date               \n",
       "1871-01-01     4.44\n",
       "1871-02-01     4.50\n",
       "1871-03-01     4.61\n",
       "1871-04-01     4.74\n",
       "1871-05-01     4.86\n",
       "...             ...\n",
       "2017-12-01  2664.34\n",
       "2018-01-01  2789.80\n",
       "2018-02-01  2705.16\n",
       "2018-03-01  2702.77\n",
       "2018-04-01  2642.19\n",
       "\n",
       "[1768 rows x 1 columns]"
      ]
     },
     "execution_count": 12,
     "metadata": {},
     "output_type": "execute_result"
    }
   ],
   "source": [
    "sp500_df['Date'] = pd.to_datetime(sp500_df['Date'])\n",
    "sp500_df.set_index('Date',inplace=True)\n",
    "# we will only use the S&P500 index\n",
    "sp500_df = pd.DataFrame(sp500_df['SP500'],columns=['SP500'])\n",
    "sp500_df"
   ]
  },
  {
   "cell_type": "code",
   "execution_count": 13,
   "metadata": {},
   "outputs": [
    {
     "data": {
      "text/plain": [
       "Text(0, 0.5, 'S&P500 Index')"
      ]
     },
     "execution_count": 13,
     "metadata": {},
     "output_type": "execute_result"
    },
    {
     "data": {
      "image/png": "[encoded data removed]",
      "text/plain": [
       "<Figure size 432x288 with 1 Axes>"
      ]
     },
     "metadata": {
      "needs_background": "light"
     },
     "output_type": "display_data"
    }
   ],
   "source": [
    "from pylab import rcParams\n",
    "# rcParams['figure.figsize'] = 14, 9\n",
    "\n",
    "plt.plot(sp500_df['SP500'])\n",
    "plt.title('S&P 500 Index')\n",
    "x = sp500_df.index\n",
    "plt.xticks(x[::200],rotation=45)\n",
    "plt.xlabel('Date')\n",
    "plt.ylabel('S&P500 Index')"
   ]
  },
  {
   "cell_type": "code",
   "execution_count": 14,
   "metadata": {},
   "outputs": [
    {
     "data": {
      "text/html": [
       "<div>\n",
       "<style scoped>\n",
       "    .dataframe tbody tr th:only-of-type {\n",
       "        vertical-align: middle;\n",
       "    }\n",
       "\n",
       "    .dataframe tbody tr th {\n",
       "        vertical-align: top;\n",
       "    }\n",
       "\n",
       "    .dataframe thead th {\n",
       "        text-align: right;\n",
       "    }\n",
       "</style>\n",
       "<table border=\"1\" class=\"dataframe\">\n",
       "  <thead>\n",
       "    <tr style=\"text-align: right;\">\n",
       "      <th></th>\n",
       "      <th>SP500</th>\n",
       "    </tr>\n",
       "  </thead>\n",
       "  <tbody>\n",
       "    <tr>\n",
       "      <th>count</th>\n",
       "      <td>1768.000000</td>\n",
       "    </tr>\n",
       "    <tr>\n",
       "      <th>mean</th>\n",
       "      <td>258.374570</td>\n",
       "    </tr>\n",
       "    <tr>\n",
       "      <th>std</th>\n",
       "      <td>514.103382</td>\n",
       "    </tr>\n",
       "    <tr>\n",
       "      <th>min</th>\n",
       "      <td>2.730000</td>\n",
       "    </tr>\n",
       "    <tr>\n",
       "      <th>25%</th>\n",
       "      <td>7.737500</td>\n",
       "    </tr>\n",
       "    <tr>\n",
       "      <th>50%</th>\n",
       "      <td>16.335000</td>\n",
       "    </tr>\n",
       "    <tr>\n",
       "      <th>75%</th>\n",
       "      <td>122.525000</td>\n",
       "    </tr>\n",
       "    <tr>\n",
       "      <th>max</th>\n",
       "      <td>2789.800000</td>\n",
       "    </tr>\n",
       "  </tbody>\n",
       "</table>\n",
       "</div>"
      ],
      "text/plain": [
       "             SP500\n",
       "count  1768.000000\n",
       "mean    258.374570\n",
       "std     514.103382\n",
       "min       2.730000\n",
       "25%       7.737500\n",
       "50%      16.335000\n",
       "75%     122.525000\n",
       "max    2789.800000"
      ]
     },
     "execution_count": 14,
     "metadata": {},
     "output_type": "execute_result"
    }
   ],
   "source": [
    "sp500_df.describe()"
   ]
  },
  {
   "cell_type": "code",
   "execution_count": 15,
   "metadata": {},
   "outputs": [
    {
     "data": {
      "text/plain": [
       "SP500    0\n",
       "dtype: int64"
      ]
     },
     "execution_count": 15,
     "metadata": {},
     "output_type": "execute_result"
    }
   ],
   "source": [
    "sp500_df.isnull().sum()"
   ]
  },
  {
   "cell_type": "code",
   "execution_count": 16,
   "metadata": {},
   "outputs": [
    {
     "data": {
      "image/png": "[encoded data removed]",
      "text/plain": [
       "<Figure size 432x288 with 1 Axes>"
      ]
     },
     "metadata": {
      "needs_background": "light"
     },
     "output_type": "display_data"
    }
   ],
   "source": [
    "from statsmodels.tsa.seasonal import seasonal_decompose\n",
    "result = seasonal_decompose(sp500_df,period=365)\n",
    "result.trend.plot()\n",
    "plt.show()"
   ]
  },
  {
   "cell_type": "code",
   "execution_count": null,
   "metadata": {},
   "outputs": [],
   "source": []
  }
 ],
 "metadata": {
  "kernelspec": {
   "display_name": "Python 3",
   "language": "python",
   "name": "python3"
  },
  "language_info": {
   "codemirror_mode": {
    "name": "ipython",
    "version": 3
   },
   "file_extension": ".py",
   "mimetype": "text/x-python",
   "name": "python",
   "nbconvert_exporter": "python",
   "pygments_lexer": "ipython3",
   "version": "3.8.8"
  }
 },
 "nbformat": 4,
 "nbformat_minor": 4
}
