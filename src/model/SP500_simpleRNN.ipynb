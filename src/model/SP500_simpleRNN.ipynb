{
 "cells": [
  {
   "cell_type": "code",
   "execution_count": 1,
   "metadata": {},
   "outputs": [],
   "source": [
    "import pandas as pd\n",
    "import numpy as np\n",
    "import matplotlib.pyplot as plt\n",
    "from matplotlib.pyplot import figure"
   ]
  },
  {
   "cell_type": "code",
   "execution_count": 2,
   "metadata": {},
   "outputs": [],
   "source": [
    "dataset_folder = \"../../dataset/\""
   ]
  },
  {
   "cell_type": "markdown",
   "metadata": {},
   "source": [
    "# Microsoft"
   ]
  },
  {
   "cell_type": "code",
   "execution_count": 3,
   "metadata": {},
   "outputs": [],
   "source": [
    "microsoft_df = pd.read_csv(dataset_folder + \"Microsoft_Stock.csv\")"
   ]
  },
  {
   "cell_type": "code",
   "execution_count": 4,
   "metadata": {},
   "outputs": [
    {
     "data": {
      "text/html": [
       "<div>\n",
       "<style scoped>\n",
       "    .dataframe tbody tr th:only-of-type {\n",
       "        vertical-align: middle;\n",
       "    }\n",
       "\n",
       "    .dataframe tbody tr th {\n",
       "        vertical-align: top;\n",
       "    }\n",
       "\n",
       "    .dataframe thead th {\n",
       "        text-align: right;\n",
       "    }\n",
       "</style>\n",
       "<table border=\"1\" class=\"dataframe\">\n",
       "  <thead>\n",
       "    <tr style=\"text-align: right;\">\n",
       "      <th></th>\n",
       "      <th>Close</th>\n",
       "    </tr>\n",
       "    <tr>\n",
       "      <th>Date</th>\n",
       "      <th></th>\n",
       "    </tr>\n",
       "  </thead>\n",
       "  <tbody>\n",
       "    <tr>\n",
       "      <th>2015-04-01 16:00:00</th>\n",
       "      <td>40.72</td>\n",
       "    </tr>\n",
       "    <tr>\n",
       "      <th>2015-04-02 16:00:00</th>\n",
       "      <td>40.29</td>\n",
       "    </tr>\n",
       "    <tr>\n",
       "      <th>2015-04-06 16:00:00</th>\n",
       "      <td>41.55</td>\n",
       "    </tr>\n",
       "    <tr>\n",
       "      <th>2015-04-07 16:00:00</th>\n",
       "      <td>41.53</td>\n",
       "    </tr>\n",
       "    <tr>\n",
       "      <th>2015-04-08 16:00:00</th>\n",
       "      <td>41.42</td>\n",
       "    </tr>\n",
       "    <tr>\n",
       "      <th>...</th>\n",
       "      <td>...</td>\n",
       "    </tr>\n",
       "    <tr>\n",
       "      <th>2021-03-25 16:00:00</th>\n",
       "      <td>232.34</td>\n",
       "    </tr>\n",
       "    <tr>\n",
       "      <th>2021-03-26 16:00:00</th>\n",
       "      <td>236.48</td>\n",
       "    </tr>\n",
       "    <tr>\n",
       "      <th>2021-03-29 16:00:00</th>\n",
       "      <td>235.24</td>\n",
       "    </tr>\n",
       "    <tr>\n",
       "      <th>2021-03-30 16:00:00</th>\n",
       "      <td>231.85</td>\n",
       "    </tr>\n",
       "    <tr>\n",
       "      <th>2021-03-31 16:00:00</th>\n",
       "      <td>235.77</td>\n",
       "    </tr>\n",
       "  </tbody>\n",
       "</table>\n",
       "<p>1511 rows × 1 columns</p>\n",
       "</div>"
      ],
      "text/plain": [
       "                      Close\n",
       "Date                       \n",
       "2015-04-01 16:00:00   40.72\n",
       "2015-04-02 16:00:00   40.29\n",
       "2015-04-06 16:00:00   41.55\n",
       "2015-04-07 16:00:00   41.53\n",
       "2015-04-08 16:00:00   41.42\n",
       "...                     ...\n",
       "2021-03-25 16:00:00  232.34\n",
       "2021-03-26 16:00:00  236.48\n",
       "2021-03-29 16:00:00  235.24\n",
       "2021-03-30 16:00:00  231.85\n",
       "2021-03-31 16:00:00  235.77\n",
       "\n",
       "[1511 rows x 1 columns]"
      ]
     },
     "execution_count": 4,
     "metadata": {},
     "output_type": "execute_result"
    }
   ],
   "source": [
    "microsoft_df['Date'] = pd.to_datetime(microsoft_df['Date'])\n",
    "microsoft_df.set_index('Date',inplace=True)\n",
    "microsoft_df.drop(columns=['Open','High','Low','Volume'],inplace=True)\n",
    "microsoft_df"
   ]
  },
  {
   "cell_type": "code",
   "execution_count": 5,
   "metadata": {},
   "outputs": [],
   "source": [
    "import torch\n",
    "import torch.nn as nn\n",
    "from torch.utils.data import TensorDataset, DataLoader"
   ]
  },
  {
   "cell_type": "code",
   "execution_count": 6,
   "metadata": {},
   "outputs": [
    {
     "data": {
      "text/plain": [
       "array([[0.00210064],\n",
       "       [0.        ],\n",
       "       [0.00615535],\n",
       "       ...,\n",
       "       [0.95236932],\n",
       "       [0.9358085 ],\n",
       "       [0.95495848]])"
      ]
     },
     "execution_count": 6,
     "metadata": {},
     "output_type": "execute_result"
    }
   ],
   "source": [
    "from sklearn.preprocessing import MinMaxScaler\n",
    "scaler = MinMaxScaler(feature_range=(0,1))\n",
    "scaled = scaler.fit_transform(microsoft_df.values.reshape(-1,1))\n",
    "scaled"
   ]
  },
  {
   "cell_type": "code",
   "execution_count": 7,
   "metadata": {},
   "outputs": [],
   "source": [
    "# X_train = []\n",
    "# y_train = []\n",
    "# for i in range(60, 1151):\n",
    "#     X_train.append(train_scaled[i-60:i, 0])\n",
    "#     y_train.append(train_scaled[i, 0])\n",
    "# X_train, y_train = np.array(X_train), np.array(y_train)\n",
    "# X_train"
   ]
  },
  {
   "cell_type": "code",
   "execution_count": 8,
   "metadata": {},
   "outputs": [],
   "source": [
    "# y_train"
   ]
  },
  {
   "cell_type": "code",
   "execution_count": 9,
   "metadata": {},
   "outputs": [
    {
     "name": "stdout",
     "output_type": "stream",
     "text": [
      "X_train.shape:  (1185, 30, 1)\n",
      "y_train.shape:  (1185, 1)\n",
      "X_test.shape:  (296, 30, 1)\n",
      "y_test.shape:  (296, 1)\n"
     ]
    }
   ],
   "source": [
    "def split_data(stock, lookback):\n",
    "    data_raw = stock # convert to numpy array\n",
    "    data = []\n",
    "    \n",
    "    # create all possible sequences of length seq_len\n",
    "    for index in range(len(data_raw) - lookback): \n",
    "        data.append(data_raw[index: index + lookback+1])\n",
    "    \n",
    "    data = np.array(data);\n",
    "    test_set_size = int(np.round(0.2*data.shape[0]));\n",
    "    train_set_size = data.shape[0] - (test_set_size);\n",
    "    \n",
    "    x_train = data[:train_set_size,:-1,:]\n",
    "    y_train = data[:train_set_size,-1,:]\n",
    "    \n",
    "    x_test = data[train_set_size:,:-1]\n",
    "    y_test = data[train_set_size:,-1,:]\n",
    "    \n",
    "    return [x_train, y_train, x_test, y_test]\n",
    "\n",
    "lookback = 30 # choose sequence length\n",
    "train_x,train_y,test_x,test_y = split_data(scaled, lookback)\n",
    "\n",
    "# Print data shape\n",
    "print('X_train.shape: ', train_x.shape)\n",
    "print('y_train.shape: ', train_y.shape)\n",
    "print('X_test.shape: ', test_x.shape) \n",
    "print('y_test.shape: ', test_y.shape)"
   ]
  },
  {
   "cell_type": "code",
   "execution_count": 10,
   "metadata": {},
   "outputs": [],
   "source": [
    "batch_size = 64\n",
    "train_data = TensorDataset(torch.from_numpy(train_x), torch.from_numpy(train_y))\n",
    "train_loader = DataLoader(train_data, shuffle=True, batch_size=batch_size, drop_last=True)\n",
    "test_data = TensorDataset(torch.from_numpy(test_x), torch.from_numpy(test_y))\n",
    "test_loader = DataLoader(test_data, shuffle=False, batch_size=1, drop_last=True)"
   ]
  },
  {
   "cell_type": "code",
   "execution_count": 11,
   "metadata": {},
   "outputs": [],
   "source": [
    "class RNN(nn.Module):\n",
    "    def __init__(self, input_size, hidden_dim, output_size, n_layers, drop_prob=0.2):\n",
    "        super(RNN, self).__init__()\n",
    "        \n",
    "        #Defining some parameters\n",
    "        self.hidden_dim = hidden_dim\n",
    "        self.n_layers = n_layers\n",
    "        \n",
    "        #Defining layers\n",
    "        #RNN\n",
    "        self.rnn = nn.RNN(input_size, hidden_dim, n_layers, batch_first=True, dropout=drop_prob)\n",
    "        #Fully connected layer\n",
    "        self.fc = nn.Linear(hidden_dim, output_size)\n",
    "        #activation function\n",
    "        self.relu = nn.ReLU()\n",
    "    \n",
    "    def forward(self, x, h):\n",
    "        out, h = self.rnn(x, h)\n",
    "        out = self.fc(self.relu(out[:,-1]))\n",
    "        return out, h\n",
    "    \n",
    "    def init_hidden(self,batch_size):\n",
    "        #generates the first hidden state of zeros used in the forward pass\n",
    "        #we'll send the tensor holding the hidden state to the device we specified earlier as well \n",
    "        weight = next(self.parameters()).data\n",
    "        hidden = weight.new(self.n_layers, batch_size, self.hidden_dim).zero_()\n",
    "        return hidden\n",
    "    \n",
    "def train(train_loader, learn_rate, hidden_dim=256, EPOCHS=5, model_type=\"RNN\"):\n",
    "    # Setting common hyperparameters\n",
    "    input_dim = 1\n",
    "    output_dim = 1\n",
    "    n_layers = 1\n",
    "    # Instantiating the models\n",
    "    model = RNN(input_dim, hidden_dim, output_dim, n_layers)\n",
    "    \n",
    "    # Defining loss function and optimizer\n",
    "    criterion = nn.MSELoss()\n",
    "    optimizer = torch.optim.Adam(model.parameters(), lr=learn_rate)\n",
    "\n",
    "    model.train()\n",
    "    print(\"Starting Training of {} model\".format(model_type))\n",
    "    epoch_times = []\n",
    "    # Start training loop\n",
    "    for epoch in range(1,EPOCHS+1):\n",
    "\n",
    "        h = model.init_hidden(batch_size)\n",
    "        avg_loss = 0.\n",
    "        for x, label in train_loader:\n",
    "            h = h.data\n",
    "            model.zero_grad()\n",
    "            #print(x.float().shape,h.shape)\n",
    "            #print(x.float(),h)\n",
    "            out, h = model.forward(x.float(), h)\n",
    "            \n",
    "            loss = criterion(out, label.float())\n",
    "            loss.backward()\n",
    "            optimizer.step()\n",
    "            avg_loss += loss.item()\n",
    "            \n",
    "        print(\"Epoch {}/{} Done, Total Loss: {}\".format(epoch, EPOCHS, avg_loss/len(train_loader)))\n",
    "        #print(\"Total Time Elapsed: {} seconds\".format(str(current_time-start_time)))\n",
    "        #epoch_times.append(current_time-start_time)\n",
    "    #print(\"Total Training Time: {} seconds\".format(str(sum(epoch_times))))\n",
    "    return model\n",
    "\n",
    "def evaluate(model, test_loader):\n",
    "    with torch.no_grad():\n",
    "        predictions = []\n",
    "        values = []\n",
    "        h = model.init_hidden(1)\n",
    "        avg_loss = 0.\n",
    "        for x, label in test_loader:\n",
    "            h = h.data\n",
    "            model.zero_grad()\n",
    "            #print(x.float().shape,h.shape)\n",
    "            #print(x.float(),h)\n",
    "            out, h = model.forward(x.float(), h)\n",
    "            \n",
    "            predictions.append(out.numpy().reshape(-1))\n",
    "            values.append(label.numpy().reshape(-1))\n",
    "\n",
    "    return predictions, values"
   ]
  },
  {
   "cell_type": "code",
   "execution_count": 12,
   "metadata": {},
   "outputs": [
    {
     "name": "stdout",
     "output_type": "stream",
     "text": [
      "Starting Training of RNN model\n"
     ]
    },
    {
     "name": "stderr",
     "output_type": "stream",
     "text": [
      "/Users/annesherry/opt/anaconda3/lib/python3.8/site-packages/torch/nn/modules/rnn.py:62: UserWarning: dropout option adds dropout after all but last recurrent layer, so non-zero dropout expects num_layers greater than 1, but got dropout=0.2 and num_layers=1\n",
      "  warnings.warn(\"dropout option adds dropout after all but last \"\n"
     ]
    },
    {
     "name": "stdout",
     "output_type": "stream",
     "text": [
      "Epoch 1/5 Done, Total Loss: 0.017544900309682514\n",
      "Epoch 2/5 Done, Total Loss: 0.0036273344942148672\n",
      "Epoch 3/5 Done, Total Loss: 0.0005788996697649256\n",
      "Epoch 4/5 Done, Total Loss: 0.0001548211787141756\n",
      "Epoch 5/5 Done, Total Loss: 9.189553808634325e-05\n"
     ]
    }
   ],
   "source": [
    "lr = 0.001\n",
    "rnn_model = train(train_loader, lr, model_type=\"RNN\")"
   ]
  },
  {
   "cell_type": "code",
   "execution_count": 13,
   "metadata": {},
   "outputs": [],
   "source": [
    "predictions, values = evaluate(rnn_model,test_loader)"
   ]
  },
  {
   "cell_type": "code",
   "execution_count": 14,
   "metadata": {},
   "outputs": [
    {
     "data": {
      "text/plain": [
       "<matplotlib.legend.Legend at 0x7fdc94cf6490>"
      ]
     },
     "execution_count": 14,
     "metadata": {},
     "output_type": "execute_result"
    },
    {
     "data": {
      "image/png": "[encoded data removed]",
      "text/plain": [
       "<Figure size 1008x720 with 1 Axes>"
      ]
     },
     "metadata": {
      "needs_background": "light"
     },
     "output_type": "display_data"
    }
   ],
   "source": [
    "plt.figure(figsize=(14,10))\n",
    "plt.plot(np.asarray(predictions).reshape(-1,1), \"-o\", color=\"g\", label=\"Predicted\")\n",
    "plt.plot(np.asarray(values).reshape(-1,1), color=\"b\", label=\"Actual\")\n",
    "plt.ylabel('Microsoft Stock Price')\n",
    "plt.legend()"
   ]
  },
  {
   "cell_type": "markdown",
   "metadata": {},
   "source": [
    "## Artificial Data"
   ]
  },
  {
   "cell_type": "code",
   "execution_count": 15,
   "metadata": {},
   "outputs": [
    {
     "data": {
      "text/plain": [
       "7307"
      ]
     },
     "execution_count": 15,
     "metadata": {},
     "output_type": "execute_result"
    }
   ],
   "source": [
    "art_data = pd.read_csv(dataset_folder +\"Artificial_trend.csv\")\n",
    "art_data.set_index('date',inplace=True)\n",
    "len(art_data)"
   ]
  },
  {
   "cell_type": "code",
   "execution_count": 16,
   "metadata": {},
   "outputs": [
    {
     "name": "stdout",
     "output_type": "stream",
     "text": [
      "X_train.shape:  (5822, 30, 1)\n",
      "y_train.shape:  (5822, 1)\n",
      "X_test.shape:  (1455, 30, 1)\n",
      "y_test.shape:  (1455, 1)\n"
     ]
    }
   ],
   "source": [
    "lookback = 30 # choose sequence length\n",
    "train_x,train_y,test_x,test_y = split_data(art_data, lookback)\n",
    "\n",
    "# Print data shape\n",
    "print('X_train.shape: ', train_x.shape)\n",
    "print('y_train.shape: ', train_y.shape)\n",
    "print('X_test.shape: ', test_x.shape) \n",
    "print('y_test.shape: ', test_y.shape)"
   ]
  },
  {
   "cell_type": "code",
   "execution_count": 17,
   "metadata": {},
   "outputs": [],
   "source": [
    "batch_size = 64\n",
    "train_data = TensorDataset(torch.from_numpy(train_x), torch.from_numpy(train_y))\n",
    "train_loader = DataLoader(train_data, shuffle=True, batch_size=batch_size, drop_last=True)\n",
    "test_data = TensorDataset(torch.from_numpy(test_x), torch.from_numpy(test_y))\n",
    "test_loader = DataLoader(test_data, shuffle=False, batch_size=1, drop_last=True)"
   ]
  },
  {
   "cell_type": "code",
   "execution_count": 18,
   "metadata": {},
   "outputs": [
    {
     "name": "stdout",
     "output_type": "stream",
     "text": [
      "Starting Training of RNN model\n"
     ]
    },
    {
     "name": "stderr",
     "output_type": "stream",
     "text": [
      "/Users/annesherry/opt/anaconda3/lib/python3.8/site-packages/torch/nn/modules/rnn.py:62: UserWarning: dropout option adds dropout after all but last recurrent layer, so non-zero dropout expects num_layers greater than 1, but got dropout=0.2 and num_layers=1\n",
      "  warnings.warn(\"dropout option adds dropout after all but last \"\n"
     ]
    },
    {
     "name": "stdout",
     "output_type": "stream",
     "text": [
      "Epoch 1/5 Done, Total Loss: 0.0014282599363974037\n",
      "Epoch 2/5 Done, Total Loss: 3.229369257395673e-05\n",
      "Epoch 3/5 Done, Total Loss: 2.65997482832366e-05\n",
      "Epoch 4/5 Done, Total Loss: 2.547455636279968e-05\n",
      "Epoch 5/5 Done, Total Loss: 3.048914069141675e-05\n"
     ]
    }
   ],
   "source": [
    "lr = 0.001\n",
    "rnn_model = train(train_loader, lr, model_type=\"RNN\")"
   ]
  },
  {
   "cell_type": "code",
   "execution_count": 19,
   "metadata": {},
   "outputs": [],
   "source": [
    "predictions, values = evaluate(rnn_model,test_loader)"
   ]
  },
  {
   "cell_type": "markdown",
   "metadata": {},
   "source": [
    "plt.figure(figsize=(14,10))\n",
    "plt.plot(np.asarray(predictions).reshape(-1,1), \"-o\", color=\"g\", label=\"Predicted\")\n",
    "plt.plot(np.asarray(values).reshape(-1,1), color=\"b\", label=\"Actual\")\n",
    "plt.ylabel('Energy Consumption (MW)')\n",
    "plt.legend()"
   ]
  },
  {
   "cell_type": "markdown",
   "metadata": {},
   "source": [
    "## Crude Oil"
   ]
  },
  {
   "cell_type": "code",
   "execution_count": 22,
   "metadata": {},
   "outputs": [
    {
     "data": {
      "text/plain": [
       "1566"
      ]
     },
     "execution_count": 22,
     "metadata": {},
     "output_type": "execute_result"
    }
   ],
   "source": [
    "oil_data = pd.read_csv(dataset_folder +\"oil.csv\")\n",
    "oil_data.set_index('DATE',inplace=True)\n",
    "len(oil_data)"
   ]
  },
  {
   "cell_type": "code",
   "execution_count": 37,
   "metadata": {},
   "outputs": [
    {
     "ename": "TypeError",
     "evalue": "string indices must be integers",
     "output_type": "error",
     "traceback": [
      "\u001b[0;31m---------------------------------------------------------------------------\u001b[0m",
      "\u001b[0;31mTypeError\u001b[0m                                 Traceback (most recent call last)",
      "\u001b[0;32m/var/folders/c7/k95bchtx5x381965t5_gwdsm0000gn/T/ipykernel_91509/4223147706.py\u001b[0m in \u001b[0;36m<module>\u001b[0;34m\u001b[0m\n\u001b[0;32m----> 1\u001b[0;31m \u001b[0moil_data\u001b[0m\u001b[0;34m[\u001b[0m\u001b[0moil_data\u001b[0m\u001b[0;34m[\u001b[0m\u001b[0;34m'DCOILBRENTEU'\u001b[0m\u001b[0;34m]\u001b[0m \u001b[0;34m==\u001b[0m \u001b[0;34m\".\"\u001b[0m\u001b[0;34m]\u001b[0m \u001b[0;34m=\u001b[0m \u001b[0;34m\"\"\u001b[0m\u001b[0;34m\u001b[0m\u001b[0;34m\u001b[0m\u001b[0m\n\u001b[0m\u001b[1;32m      2\u001b[0m \u001b[0moil_data\u001b[0m\u001b[0;34m[\u001b[0m\u001b[0;34m'DCOILBRENTEU'\u001b[0m\u001b[0;34m]\u001b[0m\u001b[0;34m.\u001b[0m\u001b[0mastype\u001b[0m\u001b[0;34m(\u001b[0m\u001b[0;34m\"float\"\u001b[0m\u001b[0;34m)\u001b[0m\u001b[0;34m\u001b[0m\u001b[0;34m\u001b[0m\u001b[0m\n",
      "\u001b[0;31mTypeError\u001b[0m: string indices must be integers"
     ]
    }
   ],
   "source": [
    "oil_data[oil_data['DCOILBRENTEU'] == \".\"] = \"\"\n",
    "oil_data['DCOILBRENTEU'].astype(\"float\")"
   ]
  },
  {
   "cell_type": "code",
   "execution_count": 23,
   "metadata": {},
   "outputs": [
    {
     "name": "stdout",
     "output_type": "stream",
     "text": [
      "X_train.shape:  (1229, 30, 1)\n",
      "y_train.shape:  (1229, 1)\n",
      "X_test.shape:  (307, 30, 1)\n",
      "y_test.shape:  (307, 1)\n"
     ]
    }
   ],
   "source": [
    "lookback = 30 # choose sequence length\n",
    "train_x,train_y,test_x,test_y = split_data(oil_data, lookback)\n",
    "\n",
    "# Print data shape\n",
    "print('X_train.shape: ', train_x.shape)\n",
    "print('y_train.shape: ', train_y.shape)\n",
    "print('X_test.shape: ', test_x.shape) \n",
    "print('y_test.shape: ', test_y.shape)"
   ]
  },
  {
   "cell_type": "code",
   "execution_count": 24,
   "metadata": {},
   "outputs": [
    {
     "ename": "TypeError",
     "evalue": "can't convert np.ndarray of type numpy.object_. The only supported types are: float64, float32, float16, complex64, complex128, int64, int32, int16, int8, uint8, and bool.",
     "output_type": "error",
     "traceback": [
      "\u001b[0;31m---------------------------------------------------------------------------\u001b[0m",
      "\u001b[0;31mTypeError\u001b[0m                                 Traceback (most recent call last)",
      "\u001b[0;32m/var/folders/c7/k95bchtx5x381965t5_gwdsm0000gn/T/ipykernel_91509/3610348353.py\u001b[0m in \u001b[0;36m<module>\u001b[0;34m\u001b[0m\n\u001b[1;32m      1\u001b[0m \u001b[0mbatch_size\u001b[0m \u001b[0;34m=\u001b[0m \u001b[0;36m64\u001b[0m\u001b[0;34m\u001b[0m\u001b[0;34m\u001b[0m\u001b[0m\n\u001b[0;32m----> 2\u001b[0;31m \u001b[0mtrain_data\u001b[0m \u001b[0;34m=\u001b[0m \u001b[0mTensorDataset\u001b[0m\u001b[0;34m(\u001b[0m\u001b[0mtorch\u001b[0m\u001b[0;34m.\u001b[0m\u001b[0mfrom_numpy\u001b[0m\u001b[0;34m(\u001b[0m\u001b[0mtrain_x\u001b[0m\u001b[0;34m)\u001b[0m\u001b[0;34m,\u001b[0m \u001b[0mtorch\u001b[0m\u001b[0;34m.\u001b[0m\u001b[0mfrom_numpy\u001b[0m\u001b[0;34m(\u001b[0m\u001b[0mtrain_y\u001b[0m\u001b[0;34m)\u001b[0m\u001b[0;34m)\u001b[0m\u001b[0;34m\u001b[0m\u001b[0;34m\u001b[0m\u001b[0m\n\u001b[0m\u001b[1;32m      3\u001b[0m \u001b[0mtrain_loader\u001b[0m \u001b[0;34m=\u001b[0m \u001b[0mDataLoader\u001b[0m\u001b[0;34m(\u001b[0m\u001b[0mtrain_data\u001b[0m\u001b[0;34m,\u001b[0m \u001b[0mshuffle\u001b[0m\u001b[0;34m=\u001b[0m\u001b[0;32mTrue\u001b[0m\u001b[0;34m,\u001b[0m \u001b[0mbatch_size\u001b[0m\u001b[0;34m=\u001b[0m\u001b[0mbatch_size\u001b[0m\u001b[0;34m,\u001b[0m \u001b[0mdrop_last\u001b[0m\u001b[0;34m=\u001b[0m\u001b[0;32mTrue\u001b[0m\u001b[0;34m)\u001b[0m\u001b[0;34m\u001b[0m\u001b[0;34m\u001b[0m\u001b[0m\n\u001b[1;32m      4\u001b[0m \u001b[0mtest_data\u001b[0m \u001b[0;34m=\u001b[0m \u001b[0mTensorDataset\u001b[0m\u001b[0;34m(\u001b[0m\u001b[0mtorch\u001b[0m\u001b[0;34m.\u001b[0m\u001b[0mfrom_numpy\u001b[0m\u001b[0;34m(\u001b[0m\u001b[0mtest_x\u001b[0m\u001b[0;34m)\u001b[0m\u001b[0;34m,\u001b[0m \u001b[0mtorch\u001b[0m\u001b[0;34m.\u001b[0m\u001b[0mfrom_numpy\u001b[0m\u001b[0;34m(\u001b[0m\u001b[0mtest_y\u001b[0m\u001b[0;34m)\u001b[0m\u001b[0;34m)\u001b[0m\u001b[0;34m\u001b[0m\u001b[0;34m\u001b[0m\u001b[0m\n\u001b[1;32m      5\u001b[0m \u001b[0mtest_loader\u001b[0m \u001b[0;34m=\u001b[0m \u001b[0mDataLoader\u001b[0m\u001b[0;34m(\u001b[0m\u001b[0mtest_data\u001b[0m\u001b[0;34m,\u001b[0m \u001b[0mshuffle\u001b[0m\u001b[0;34m=\u001b[0m\u001b[0;32mFalse\u001b[0m\u001b[0;34m,\u001b[0m \u001b[0mbatch_size\u001b[0m\u001b[0;34m=\u001b[0m\u001b[0;36m1\u001b[0m\u001b[0;34m,\u001b[0m \u001b[0mdrop_last\u001b[0m\u001b[0;34m=\u001b[0m\u001b[0;32mTrue\u001b[0m\u001b[0;34m)\u001b[0m\u001b[0;34m\u001b[0m\u001b[0;34m\u001b[0m\u001b[0m\n",
      "\u001b[0;31mTypeError\u001b[0m: can't convert np.ndarray of type numpy.object_. The only supported types are: float64, float32, float16, complex64, complex128, int64, int32, int16, int8, uint8, and bool."
     ]
    }
   ],
   "source": [
    "batch_size = 64\n",
    "train_data = TensorDataset(torch.from_numpy(train_x), torch.from_numpy(train_y))\n",
    "train_loader = DataLoader(train_data, shuffle=True, batch_size=batch_size, drop_last=True)\n",
    "test_data = TensorDataset(torch.from_numpy(test_x), torch.from_numpy(test_y))\n",
    "test_loader = DataLoader(test_data, shuffle=False, batch_size=1, drop_last=True)"
   ]
  },
  {
   "cell_type": "markdown",
   "metadata": {},
   "source": [
    "## "
   ]
  }
 ],
 "metadata": {
  "kernelspec": {
   "display_name": "Python 3 (ipykernel)",
   "language": "python",
   "name": "python3"
  },
  "language_info": {
   "codemirror_mode": {
    "name": "ipython",
    "version": 3
   },
   "file_extension": ".py",
   "mimetype": "text/x-python",
   "name": "python",
   "nbconvert_exporter": "python",
   "pygments_lexer": "ipython3",
   "version": "3.8.11"
  }
 },
 "nbformat": 4,
 "nbformat_minor": 4
}
