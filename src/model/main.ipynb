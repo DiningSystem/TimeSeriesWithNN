{
 "cells": [
  {
   "cell_type": "code",
   "execution_count": 1,
   "metadata": {},
   "outputs": [],
   "source": [
    "import pandas as pd\n",
    "import numpy as np\n",
    "import matplotlib.pyplot as plt\n",
    "import time\n",
    "import torch\n",
    "import torch.nn as nn\n",
    "from torch.utils.data import TensorDataset, DataLoader\n",
    "from sklearn.preprocessing import MinMaxScaler\n",
    "\n",
    "import train"
   ]
  },
  {
   "cell_type": "code",
   "execution_count": 2,
   "metadata": {},
   "outputs": [
    {
     "ename": "FileNotFoundError",
     "evalue": "[Errno 2] No such file or directory: '../../../dataset/Artificial_trend.csv'",
     "output_type": "error",
     "traceback": [
      "\u001b[1;31m---------------------------------------------------------------------------\u001b[0m",
      "\u001b[1;31mFileNotFoundError\u001b[0m                         Traceback (most recent call last)",
      "\u001b[1;32m~\\AppData\\Local\\Temp/ipykernel_22460/2957888314.py\u001b[0m in \u001b[0;36m<module>\u001b[1;34m\u001b[0m\n\u001b[0;32m     40\u001b[0m \u001b[0mbitcoin_date\u001b[0m \u001b[1;33m=\u001b[0m \u001b[1;34m\"Date\"\u001b[0m\u001b[1;33m\u001b[0m\u001b[1;33m\u001b[0m\u001b[0m\n\u001b[0;32m     41\u001b[0m \u001b[1;33m\u001b[0m\u001b[0m\n\u001b[1;32m---> 42\u001b[1;33m \u001b[0mrefresh_data\u001b[0m\u001b[1;33m(\u001b[0m\u001b[1;33m)\u001b[0m\u001b[1;33m\u001b[0m\u001b[1;33m\u001b[0m\u001b[0m\n\u001b[0m",
      "\u001b[1;32m~\\AppData\\Local\\Temp/ipykernel_22460/2957888314.py\u001b[0m in \u001b[0;36mrefresh_data\u001b[1;34m()\u001b[0m\n\u001b[0;32m      8\u001b[0m     \u001b[1;32mglobal\u001b[0m \u001b[0msp500_data\u001b[0m\u001b[1;33m\u001b[0m\u001b[1;33m\u001b[0m\u001b[0m\n\u001b[0;32m      9\u001b[0m     \u001b[1;32mglobal\u001b[0m \u001b[0mbitcoin_data\u001b[0m\u001b[1;33m\u001b[0m\u001b[1;33m\u001b[0m\u001b[0m\n\u001b[1;32m---> 10\u001b[1;33m     \u001b[0martificial_data1\u001b[0m \u001b[1;33m=\u001b[0m \u001b[0mpd\u001b[0m\u001b[1;33m.\u001b[0m\u001b[0mread_csv\u001b[0m\u001b[1;33m(\u001b[0m\u001b[0mdataset_folder\u001b[0m \u001b[1;33m+\u001b[0m \u001b[1;34m\"Artificial_trend.csv\"\u001b[0m\u001b[1;33m)\u001b[0m\u001b[1;33m\u001b[0m\u001b[1;33m\u001b[0m\u001b[0m\n\u001b[0m\u001b[0;32m     11\u001b[0m     \u001b[0martificial_data2\u001b[0m \u001b[1;33m=\u001b[0m \u001b[0mpd\u001b[0m\u001b[1;33m.\u001b[0m\u001b[0mread_csv\u001b[0m\u001b[1;33m(\u001b[0m\u001b[0mdataset_folder\u001b[0m \u001b[1;33m+\u001b[0m \u001b[1;34m\"Artificial_trend1.csv\"\u001b[0m\u001b[1;33m)\u001b[0m\u001b[1;33m\u001b[0m\u001b[1;33m\u001b[0m\u001b[0m\n\u001b[0;32m     12\u001b[0m     \u001b[0mmsft_data\u001b[0m \u001b[1;33m=\u001b[0m \u001b[0mpd\u001b[0m\u001b[1;33m.\u001b[0m\u001b[0mread_csv\u001b[0m\u001b[1;33m(\u001b[0m\u001b[0mdataset_folder\u001b[0m \u001b[1;33m+\u001b[0m \u001b[1;34m\"microsoft.csv\"\u001b[0m\u001b[1;33m)\u001b[0m\u001b[1;33m\u001b[0m\u001b[1;33m\u001b[0m\u001b[0m\n",
      "\u001b[1;32m~\\AppData\\Local\\Programs\\Python\\Python38\\lib\\site-packages\\pandas\\util\\_decorators.py\u001b[0m in \u001b[0;36mwrapper\u001b[1;34m(*args, **kwargs)\u001b[0m\n\u001b[0;32m    309\u001b[0m                     \u001b[0mstacklevel\u001b[0m\u001b[1;33m=\u001b[0m\u001b[0mstacklevel\u001b[0m\u001b[1;33m,\u001b[0m\u001b[1;33m\u001b[0m\u001b[1;33m\u001b[0m\u001b[0m\n\u001b[0;32m    310\u001b[0m                 )\n\u001b[1;32m--> 311\u001b[1;33m             \u001b[1;32mreturn\u001b[0m \u001b[0mfunc\u001b[0m\u001b[1;33m(\u001b[0m\u001b[1;33m*\u001b[0m\u001b[0margs\u001b[0m\u001b[1;33m,\u001b[0m \u001b[1;33m**\u001b[0m\u001b[0mkwargs\u001b[0m\u001b[1;33m)\u001b[0m\u001b[1;33m\u001b[0m\u001b[1;33m\u001b[0m\u001b[0m\n\u001b[0m\u001b[0;32m    312\u001b[0m \u001b[1;33m\u001b[0m\u001b[0m\n\u001b[0;32m    313\u001b[0m         \u001b[1;32mreturn\u001b[0m \u001b[0mwrapper\u001b[0m\u001b[1;33m\u001b[0m\u001b[1;33m\u001b[0m\u001b[0m\n",
      "\u001b[1;32m~\\AppData\\Local\\Programs\\Python\\Python38\\lib\\site-packages\\pandas\\io\\parsers\\readers.py\u001b[0m in \u001b[0;36mread_csv\u001b[1;34m(filepath_or_buffer, sep, delimiter, header, names, index_col, usecols, squeeze, prefix, mangle_dupe_cols, dtype, engine, converters, true_values, false_values, skipinitialspace, skiprows, skipfooter, nrows, na_values, keep_default_na, na_filter, verbose, skip_blank_lines, parse_dates, infer_datetime_format, keep_date_col, date_parser, dayfirst, cache_dates, iterator, chunksize, compression, thousands, decimal, lineterminator, quotechar, quoting, doublequote, escapechar, comment, encoding, encoding_errors, dialect, error_bad_lines, warn_bad_lines, on_bad_lines, delim_whitespace, low_memory, memory_map, float_precision, storage_options)\u001b[0m\n\u001b[0;32m    584\u001b[0m     \u001b[0mkwds\u001b[0m\u001b[1;33m.\u001b[0m\u001b[0mupdate\u001b[0m\u001b[1;33m(\u001b[0m\u001b[0mkwds_defaults\u001b[0m\u001b[1;33m)\u001b[0m\u001b[1;33m\u001b[0m\u001b[1;33m\u001b[0m\u001b[0m\n\u001b[0;32m    585\u001b[0m \u001b[1;33m\u001b[0m\u001b[0m\n\u001b[1;32m--> 586\u001b[1;33m     \u001b[1;32mreturn\u001b[0m \u001b[0m_read\u001b[0m\u001b[1;33m(\u001b[0m\u001b[0mfilepath_or_buffer\u001b[0m\u001b[1;33m,\u001b[0m \u001b[0mkwds\u001b[0m\u001b[1;33m)\u001b[0m\u001b[1;33m\u001b[0m\u001b[1;33m\u001b[0m\u001b[0m\n\u001b[0m\u001b[0;32m    587\u001b[0m \u001b[1;33m\u001b[0m\u001b[0m\n\u001b[0;32m    588\u001b[0m \u001b[1;33m\u001b[0m\u001b[0m\n",
      "\u001b[1;32m~\\AppData\\Local\\Programs\\Python\\Python38\\lib\\site-packages\\pandas\\io\\parsers\\readers.py\u001b[0m in \u001b[0;36m_read\u001b[1;34m(filepath_or_buffer, kwds)\u001b[0m\n\u001b[0;32m    480\u001b[0m \u001b[1;33m\u001b[0m\u001b[0m\n\u001b[0;32m    481\u001b[0m     \u001b[1;31m# Create the parser.\u001b[0m\u001b[1;33m\u001b[0m\u001b[1;33m\u001b[0m\u001b[1;33m\u001b[0m\u001b[0m\n\u001b[1;32m--> 482\u001b[1;33m     \u001b[0mparser\u001b[0m \u001b[1;33m=\u001b[0m \u001b[0mTextFileReader\u001b[0m\u001b[1;33m(\u001b[0m\u001b[0mfilepath_or_buffer\u001b[0m\u001b[1;33m,\u001b[0m \u001b[1;33m**\u001b[0m\u001b[0mkwds\u001b[0m\u001b[1;33m)\u001b[0m\u001b[1;33m\u001b[0m\u001b[1;33m\u001b[0m\u001b[0m\n\u001b[0m\u001b[0;32m    483\u001b[0m \u001b[1;33m\u001b[0m\u001b[0m\n\u001b[0;32m    484\u001b[0m     \u001b[1;32mif\u001b[0m \u001b[0mchunksize\u001b[0m \u001b[1;32mor\u001b[0m \u001b[0miterator\u001b[0m\u001b[1;33m:\u001b[0m\u001b[1;33m\u001b[0m\u001b[1;33m\u001b[0m\u001b[0m\n",
      "\u001b[1;32m~\\AppData\\Local\\Programs\\Python\\Python38\\lib\\site-packages\\pandas\\io\\parsers\\readers.py\u001b[0m in \u001b[0;36m__init__\u001b[1;34m(self, f, engine, **kwds)\u001b[0m\n\u001b[0;32m    809\u001b[0m             \u001b[0mself\u001b[0m\u001b[1;33m.\u001b[0m\u001b[0moptions\u001b[0m\u001b[1;33m[\u001b[0m\u001b[1;34m\"has_index_names\"\u001b[0m\u001b[1;33m]\u001b[0m \u001b[1;33m=\u001b[0m \u001b[0mkwds\u001b[0m\u001b[1;33m[\u001b[0m\u001b[1;34m\"has_index_names\"\u001b[0m\u001b[1;33m]\u001b[0m\u001b[1;33m\u001b[0m\u001b[1;33m\u001b[0m\u001b[0m\n\u001b[0;32m    810\u001b[0m \u001b[1;33m\u001b[0m\u001b[0m\n\u001b[1;32m--> 811\u001b[1;33m         \u001b[0mself\u001b[0m\u001b[1;33m.\u001b[0m\u001b[0m_engine\u001b[0m \u001b[1;33m=\u001b[0m \u001b[0mself\u001b[0m\u001b[1;33m.\u001b[0m\u001b[0m_make_engine\u001b[0m\u001b[1;33m(\u001b[0m\u001b[0mself\u001b[0m\u001b[1;33m.\u001b[0m\u001b[0mengine\u001b[0m\u001b[1;33m)\u001b[0m\u001b[1;33m\u001b[0m\u001b[1;33m\u001b[0m\u001b[0m\n\u001b[0m\u001b[0;32m    812\u001b[0m \u001b[1;33m\u001b[0m\u001b[0m\n\u001b[0;32m    813\u001b[0m     \u001b[1;32mdef\u001b[0m \u001b[0mclose\u001b[0m\u001b[1;33m(\u001b[0m\u001b[0mself\u001b[0m\u001b[1;33m)\u001b[0m\u001b[1;33m:\u001b[0m\u001b[1;33m\u001b[0m\u001b[1;33m\u001b[0m\u001b[0m\n",
      "\u001b[1;32m~\\AppData\\Local\\Programs\\Python\\Python38\\lib\\site-packages\\pandas\\io\\parsers\\readers.py\u001b[0m in \u001b[0;36m_make_engine\u001b[1;34m(self, engine)\u001b[0m\n\u001b[0;32m   1038\u001b[0m             )\n\u001b[0;32m   1039\u001b[0m         \u001b[1;31m# error: Too many arguments for \"ParserBase\"\u001b[0m\u001b[1;33m\u001b[0m\u001b[1;33m\u001b[0m\u001b[1;33m\u001b[0m\u001b[0m\n\u001b[1;32m-> 1040\u001b[1;33m         \u001b[1;32mreturn\u001b[0m \u001b[0mmapping\u001b[0m\u001b[1;33m[\u001b[0m\u001b[0mengine\u001b[0m\u001b[1;33m]\u001b[0m\u001b[1;33m(\u001b[0m\u001b[0mself\u001b[0m\u001b[1;33m.\u001b[0m\u001b[0mf\u001b[0m\u001b[1;33m,\u001b[0m \u001b[1;33m**\u001b[0m\u001b[0mself\u001b[0m\u001b[1;33m.\u001b[0m\u001b[0moptions\u001b[0m\u001b[1;33m)\u001b[0m  \u001b[1;31m# type: ignore[call-arg]\u001b[0m\u001b[1;33m\u001b[0m\u001b[1;33m\u001b[0m\u001b[0m\n\u001b[0m\u001b[0;32m   1041\u001b[0m \u001b[1;33m\u001b[0m\u001b[0m\n\u001b[0;32m   1042\u001b[0m     \u001b[1;32mdef\u001b[0m \u001b[0m_failover_to_python\u001b[0m\u001b[1;33m(\u001b[0m\u001b[0mself\u001b[0m\u001b[1;33m)\u001b[0m\u001b[1;33m:\u001b[0m\u001b[1;33m\u001b[0m\u001b[1;33m\u001b[0m\u001b[0m\n",
      "\u001b[1;32m~\\AppData\\Local\\Programs\\Python\\Python38\\lib\\site-packages\\pandas\\io\\parsers\\c_parser_wrapper.py\u001b[0m in \u001b[0;36m__init__\u001b[1;34m(self, src, **kwds)\u001b[0m\n\u001b[0;32m     49\u001b[0m \u001b[1;33m\u001b[0m\u001b[0m\n\u001b[0;32m     50\u001b[0m         \u001b[1;31m# open handles\u001b[0m\u001b[1;33m\u001b[0m\u001b[1;33m\u001b[0m\u001b[1;33m\u001b[0m\u001b[0m\n\u001b[1;32m---> 51\u001b[1;33m         \u001b[0mself\u001b[0m\u001b[1;33m.\u001b[0m\u001b[0m_open_handles\u001b[0m\u001b[1;33m(\u001b[0m\u001b[0msrc\u001b[0m\u001b[1;33m,\u001b[0m \u001b[0mkwds\u001b[0m\u001b[1;33m)\u001b[0m\u001b[1;33m\u001b[0m\u001b[1;33m\u001b[0m\u001b[0m\n\u001b[0m\u001b[0;32m     52\u001b[0m         \u001b[1;32massert\u001b[0m \u001b[0mself\u001b[0m\u001b[1;33m.\u001b[0m\u001b[0mhandles\u001b[0m \u001b[1;32mis\u001b[0m \u001b[1;32mnot\u001b[0m \u001b[1;32mNone\u001b[0m\u001b[1;33m\u001b[0m\u001b[1;33m\u001b[0m\u001b[0m\n\u001b[0;32m     53\u001b[0m \u001b[1;33m\u001b[0m\u001b[0m\n",
      "\u001b[1;32m~\\AppData\\Local\\Programs\\Python\\Python38\\lib\\site-packages\\pandas\\io\\parsers\\base_parser.py\u001b[0m in \u001b[0;36m_open_handles\u001b[1;34m(self, src, kwds)\u001b[0m\n\u001b[0;32m    220\u001b[0m         \u001b[0mLet\u001b[0m \u001b[0mthe\u001b[0m \u001b[0mreaders\u001b[0m \u001b[0mopen\u001b[0m \u001b[0mIOHandles\u001b[0m \u001b[0mafter\u001b[0m \u001b[0mthey\u001b[0m \u001b[0mare\u001b[0m \u001b[0mdone\u001b[0m \u001b[1;32mwith\u001b[0m \u001b[0mtheir\u001b[0m \u001b[0mpotential\u001b[0m \u001b[0mraises\u001b[0m\u001b[1;33m.\u001b[0m\u001b[1;33m\u001b[0m\u001b[1;33m\u001b[0m\u001b[0m\n\u001b[0;32m    221\u001b[0m         \"\"\"\n\u001b[1;32m--> 222\u001b[1;33m         self.handles = get_handle(\n\u001b[0m\u001b[0;32m    223\u001b[0m             \u001b[0msrc\u001b[0m\u001b[1;33m,\u001b[0m\u001b[1;33m\u001b[0m\u001b[1;33m\u001b[0m\u001b[0m\n\u001b[0;32m    224\u001b[0m             \u001b[1;34m\"r\"\u001b[0m\u001b[1;33m,\u001b[0m\u001b[1;33m\u001b[0m\u001b[1;33m\u001b[0m\u001b[0m\n",
      "\u001b[1;32m~\\AppData\\Local\\Programs\\Python\\Python38\\lib\\site-packages\\pandas\\io\\common.py\u001b[0m in \u001b[0;36mget_handle\u001b[1;34m(path_or_buf, mode, encoding, compression, memory_map, is_text, errors, storage_options)\u001b[0m\n\u001b[0;32m    700\u001b[0m         \u001b[1;32mif\u001b[0m \u001b[0mioargs\u001b[0m\u001b[1;33m.\u001b[0m\u001b[0mencoding\u001b[0m \u001b[1;32mand\u001b[0m \u001b[1;34m\"b\"\u001b[0m \u001b[1;32mnot\u001b[0m \u001b[1;32min\u001b[0m \u001b[0mioargs\u001b[0m\u001b[1;33m.\u001b[0m\u001b[0mmode\u001b[0m\u001b[1;33m:\u001b[0m\u001b[1;33m\u001b[0m\u001b[1;33m\u001b[0m\u001b[0m\n\u001b[0;32m    701\u001b[0m             \u001b[1;31m# Encoding\u001b[0m\u001b[1;33m\u001b[0m\u001b[1;33m\u001b[0m\u001b[1;33m\u001b[0m\u001b[0m\n\u001b[1;32m--> 702\u001b[1;33m             handle = open(\n\u001b[0m\u001b[0;32m    703\u001b[0m                 \u001b[0mhandle\u001b[0m\u001b[1;33m,\u001b[0m\u001b[1;33m\u001b[0m\u001b[1;33m\u001b[0m\u001b[0m\n\u001b[0;32m    704\u001b[0m                 \u001b[0mioargs\u001b[0m\u001b[1;33m.\u001b[0m\u001b[0mmode\u001b[0m\u001b[1;33m,\u001b[0m\u001b[1;33m\u001b[0m\u001b[1;33m\u001b[0m\u001b[0m\n",
      "\u001b[1;31mFileNotFoundError\u001b[0m: [Errno 2] No such file or directory: '../../../dataset/Artificial_trend.csv'"
     ]
    }
   ],
   "source": [
    "dataset_folder = \"../../dataset/\"\n",
    "\n",
    "def refresh_data():\n",
    "    global artificial_data1\n",
    "    global artificial_data2\n",
    "    global msft_data\n",
    "    global oil_data\n",
    "    global sp500_data\n",
    "    global bitcoin_data\n",
    "    artificial_data1 = pd.read_csv(dataset_folder + \"Artificial_trend.csv\")\n",
    "    artificial_data2 = pd.read_csv(dataset_folder + \"Artificial_trend1.csv\")\n",
    "    msft_data = pd.read_csv(dataset_folder + \"microsoft.csv\")\n",
    "    oil_data = pd.read_csv(dataset_folder + \"oil.csv\")\n",
    "    oil_data = oil_data[oil_data.DCOILBRENTEU != \".\"]\n",
    "    sp500_data = pd.read_csv(dataset_folder + \"sp500.csv\")\n",
    "    bitcoin_data = pd.read_csv(dataset_folder + \"coin.csv\")\n",
    "\n",
    "artificial_data1_name = \"Artificial Data 1\"\n",
    "artificial_data1_column_i = 1\n",
    "artificial_data1_date = \"date\"\n",
    "\n",
    "artificial_data2_name = \"Artificial Data 2\"\n",
    "artificial_data2_column_i = 1\n",
    "artificial_data2_date = \"date\"\n",
    "\n",
    "msft_name = \"Microsoft Stock prices\"\n",
    "msft_column_i = 4\n",
    "msft_date = \"Date\"\n",
    "\n",
    "oil_name = \"Crude oil prices\"\n",
    "oil_column_i = 1\n",
    "oil_date = \"DATE\"\n",
    "\n",
    "sp500_name = \"S&P 500 Index\"\n",
    "sp500_column_i = 1\n",
    "sp500_date = \"Date\"\n",
    "\n",
    "bitcoin_name = \"Bitcoin prices\"\n",
    "bitcoin_column_i = 7\n",
    "bitcoin_date = \"Date\"\n",
    "\n",
    "refresh_data()"
   ]
  },
  {
   "cell_type": "markdown",
   "metadata": {},
   "source": [
    "# Traditional RNN"
   ]
  },
  {
   "cell_type": "code",
   "execution_count": null,
   "metadata": {},
   "outputs": [],
   "source": [
    "class RNN(nn.Module):\n",
    "    def __init__(self, input_size, hidden_dim, output_size, n_layers, drop_prob=0.2):\n",
    "        super(RNN, self).__init__()\n",
    "        \n",
    "        #Defining some parameters\n",
    "        self.hidden_dim = hidden_dim\n",
    "        self.n_layers = n_layers\n",
    "        \n",
    "        #Defining layers\n",
    "        #RNN, use dropout to avoid overfitting\n",
    "        self.rnn = nn.RNN(input_size, hidden_dim, n_layers, batch_first=True, dropout=drop_prob)\n",
    "        #Fully connected layer\n",
    "        self.fc = nn.Linear(hidden_dim, output_size)\n",
    "        #activation function, using RELU to prevent shrinking the gradient\n",
    "        self.relu = nn.ReLU()\n",
    "    \n",
    "    def forward(self, x, h):\n",
    "        out, h = self.rnn(x, h)\n",
    "        out = self.fc(self.relu(out[:,-1]))\n",
    "        return out, h\n",
    "    \n",
    "    def init_hidden(self,batch_size):\n",
    "        #generates the first hidden state of zeros used in the forward pass\n",
    "        weight = next(self.parameters()).data\n",
    "        hidden = weight.new(self.n_layers, batch_size, self.hidden_dim).zero_()\n",
    "        return hidden"
   ]
  },
  {
   "cell_type": "code",
   "execution_count": null,
   "metadata": {},
   "outputs": [],
   "source": [
    "refresh_data()\n",
    "network = RNN\n",
    "model_name = \"RNN\""
   ]
  },
  {
   "cell_type": "markdown",
   "metadata": {},
   "source": [
    "## Artificial Data 1"
   ]
  },
  {
   "cell_type": "code",
   "execution_count": null,
   "metadata": {},
   "outputs": [
    {
     "name": "stdout",
     "output_type": "stream",
     "text": [
      "X_train.shape:  (5842, 5, 1)\n",
      "y_train.shape:  (5842, 1)\n",
      "X_test.shape:  (1460, 5, 1)\n",
      "y_test.shape:  (1460, 1)\n",
      "Starting Training of RNN model\n",
      "<built-in method type of Tensor object at 0x00000202D22C9540>\n"
     ]
    },
    {
     "name": "stderr",
     "output_type": "stream",
     "text": [
      "C:\\Users\\goodu\\AppData\\Local\\Programs\\Python\\Python38\\lib\\site-packages\\torch\\nn\\modules\\rnn.py:62: UserWarning: dropout option adds dropout after all but last recurrent layer, so non-zero dropout expects num_layers greater than 1, but got dropout=0.2 and num_layers=1\n",
      "  warnings.warn(\"dropout option adds dropout after all but last \"\n"
     ]
    },
    {
     "name": "stdout",
     "output_type": "stream",
     "text": [
      "Epoch 1/50 Done, Total Training MSE Loss: 0.0550306417752546\n",
      "Total Testing MSELoss: 0.007278489880263805\n",
      "Total Time Elapsed: 0.8497930000000053 seconds\n",
      "\n",
      "<built-in method type of Tensor object at 0x00000202D90E71D0>\n",
      "Epoch 2/50 Done, Total Training MSE Loss: 0.040673312394953955\n",
      "Total Testing MSELoss: 0.014760928228497505\n",
      "Total Time Elapsed: 0.8013402999999926 seconds\n",
      "\n",
      "<built-in method type of Tensor object at 0x00000202D90EA4A0>\n",
      "Epoch 3/50 Done, Total Training MSE Loss: 0.043150707419864466\n",
      "Total Testing MSELoss: 0.02455042116343975\n",
      "Total Time Elapsed: 0.848704099999992 seconds\n",
      "\n",
      "<built-in method type of Tensor object at 0x00000202D90EB270>\n",
      "Epoch 4/50 Done, Total Training MSE Loss: 0.040580663477517744\n",
      "Total Testing MSELoss: 0.02134319394826889\n",
      "Total Time Elapsed: 0.827299599999975 seconds\n",
      "\n",
      "<built-in method type of Tensor object at 0x00000202D90ED4A0>\n",
      "Epoch 5/50 Done, Total Training MSE Loss: 0.03880705700446545\n",
      "Total Testing MSELoss: 0.027330685406923294\n",
      "Total Time Elapsed: 0.8130182000000161 seconds\n",
      "\n",
      "<built-in method type of Tensor object at 0x00000202D90F1270>\n",
      "Epoch 6/50 Done, Total Training MSE Loss: 0.036277825040467705\n",
      "Total Testing MSELoss: 0.02494191750884056\n",
      "Total Time Elapsed: 0.8612076999999942 seconds\n",
      "\n",
      "<built-in method type of Tensor object at 0x00000202D90F5270>\n",
      "Epoch 7/50 Done, Total Training MSE Loss: 0.028829283175022844\n",
      "Total Testing MSELoss: 0.025749217718839645\n",
      "Total Time Elapsed: 0.8685040999999956 seconds\n",
      "\n",
      "<built-in method type of Tensor object at 0x00000202D90F4270>\n",
      "Epoch 8/50 Done, Total Training MSE Loss: 0.02146547854547632\n",
      "Total Testing MSELoss: 0.001997234532609582\n",
      "Total Time Elapsed: 0.8402482999999847 seconds\n",
      "\n",
      "<built-in method type of Tensor object at 0x00000202D90F8270>\n",
      "Epoch 9/50 Done, Total Training MSE Loss: 0.010821644689753118\n",
      "Total Testing MSELoss: 0.0022419565357267857\n",
      "Total Time Elapsed: 0.8104544999999916 seconds\n",
      "\n",
      "<built-in method type of Tensor object at 0x00000202D90F9270>\n",
      "Epoch 10/50 Done, Total Training MSE Loss: 0.0033081906550540847\n",
      "Total Testing MSELoss: 0.0006290988530963659\n",
      "Total Time Elapsed: 0.8404701000000045 seconds\n",
      "\n",
      "<built-in method type of Tensor object at 0x00000202D90FB1D0>\n",
      "Epoch 11/50 Done, Total Training MSE Loss: 0.0009649738636693616\n",
      "Total Testing MSELoss: 0.0026482080575078726\n",
      "Total Time Elapsed: 0.8463759999999922 seconds\n",
      "\n",
      "<built-in method type of Tensor object at 0x00000202D90C01D0>\n",
      "Epoch 12/50 Done, Total Training MSE Loss: 0.0007954393214067051\n",
      "Total Testing MSELoss: 0.0017539128893986344\n",
      "Total Time Elapsed: 0.8262953999999922 seconds\n",
      "\n",
      "<built-in method type of Tensor object at 0x00000202D90E7270>\n",
      "Epoch 13/50 Done, Total Training MSE Loss: 0.0006347848835643022\n",
      "Total Testing MSELoss: 0.0020610783249139786\n",
      "Total Time Elapsed: 0.8094813000000158 seconds\n",
      "\n",
      "<built-in method type of Tensor object at 0x00000202D90E6270>\n",
      "Epoch 14/50 Done, Total Training MSE Loss: 0.0006182073831531362\n",
      "Total Testing MSELoss: 0.002387732034549117\n",
      "Total Time Elapsed: 0.8170877000000019 seconds\n",
      "\n",
      "<built-in method type of Tensor object at 0x00000202D90E5270>\n",
      "Epoch 15/50 Done, Total Training MSE Loss: 0.0006185219416703138\n",
      "Total Testing MSELoss: 0.002557109110057354\n",
      "Total Time Elapsed: 0.9351594999999975 seconds\n",
      "\n",
      "<built-in method type of Tensor object at 0x00000202D90EB3B0>\n",
      "Epoch 16/50 Done, Total Training MSE Loss: 0.0005971309106866062\n",
      "Total Testing MSELoss: 0.0023731477558612823\n",
      "Total Time Elapsed: 0.8270107000000166 seconds\n",
      "\n",
      "<built-in method type of Tensor object at 0x00000202D90EE1D0>\n",
      "Epoch 17/50 Done, Total Training MSE Loss: 0.0005680403998697299\n",
      "Total Testing MSELoss: 0.0023581308778375387\n",
      "Total Time Elapsed: 1.0398209999999892 seconds\n",
      "\n",
      "<built-in method type of Tensor object at 0x00000202D90E81D0>\n",
      "Epoch 18/50 Done, Total Training MSE Loss: 0.0005481804252597683\n",
      "Total Testing MSELoss: 0.002336861565709114\n",
      "Total Time Elapsed: 0.8544914999999946 seconds\n",
      "\n",
      "<built-in method type of Tensor object at 0x00000202D90ED270>\n",
      "Epoch 19/50 Done, Total Training MSE Loss: 0.000552358214798125\n",
      "Total Testing MSELoss: 0.0024993515107780695\n",
      "Total Time Elapsed: 0.8046861999999919 seconds\n",
      "\n",
      "<built-in method type of Tensor object at 0x00000202D90EF270>\n",
      "Epoch 20/50 Done, Total Training MSE Loss: 0.0005391000714543235\n",
      "Total Testing MSELoss: 0.0024143916089087725\n",
      "Total Time Elapsed: 0.8169401999999764 seconds\n",
      "\n",
      "<built-in method type of Tensor object at 0x00000202D90F4270>\n",
      "Epoch 21/50 Done, Total Training MSE Loss: 0.0005554727385070681\n",
      "Total Testing MSELoss: 0.0027330280281603336\n",
      "Total Time Elapsed: 0.9129255000000001 seconds\n",
      "\n",
      "<built-in method type of Tensor object at 0x00000202D90F33B0>\n",
      "Epoch 22/50 Done, Total Training MSE Loss: 0.0005517451647172713\n",
      "Total Testing MSELoss: 0.00258803297765553\n",
      "Total Time Elapsed: 0.8478823000000091 seconds\n",
      "\n",
      "<built-in method type of Tensor object at 0x00000202D90F6270>\n",
      "Epoch 23/50 Done, Total Training MSE Loss: 0.0005769260745952264\n",
      "Total Testing MSELoss: 0.0027227671816945076\n",
      "Total Time Elapsed: 0.8460651000000041 seconds\n",
      "\n",
      "<built-in method type of Tensor object at 0x00000202D90FA270>\n",
      "Epoch 24/50 Done, Total Training MSE Loss: 0.0006002457920768283\n",
      "Total Testing MSELoss: 0.002883760491386056\n",
      "Total Time Elapsed: 0.7971244999999954 seconds\n",
      "\n",
      "<built-in method type of Tensor object at 0x00000202D90E4270>\n",
      "Epoch 25/50 Done, Total Training MSE Loss: 0.0006160106313073301\n",
      "Total Testing MSELoss: 0.0026626931503415108\n",
      "Total Time Elapsed: 0.799715099999986 seconds\n",
      "\n",
      "<built-in method type of Tensor object at 0x00000202D90EA270>\n",
      "Epoch 26/50 Done, Total Training MSE Loss: 0.0005300481065165553\n",
      "Total Testing MSELoss: 0.002015854697674513\n",
      "Total Time Elapsed: 0.8067901999999947 seconds\n",
      "\n",
      "<built-in method type of Tensor object at 0x00000202D90E9270>\n",
      "Epoch 27/50 Done, Total Training MSE Loss: 0.0004426422103159104\n",
      "Total Testing MSELoss: 0.0019147995626553893\n",
      "Total Time Elapsed: 0.9851268000000175 seconds\n",
      "\n",
      "<built-in method type of Tensor object at 0x00000202D90F11D0>\n",
      "Epoch 28/50 Done, Total Training MSE Loss: 0.00040786959680889803\n",
      "Total Testing MSELoss: 0.0018676629988476634\n",
      "Total Time Elapsed: 0.9005397000000244 seconds\n",
      "\n",
      "<built-in method type of Tensor object at 0x00000202D90F5810>\n",
      "Epoch 29/50 Done, Total Training MSE Loss: 0.00038375115540335316\n",
      "Total Testing MSELoss: 0.0018925460753962398\n",
      "Total Time Elapsed: 0.823035300000015 seconds\n",
      "\n",
      "<built-in method type of Tensor object at 0x00000202D90F2270>\n",
      "Epoch 30/50 Done, Total Training MSE Loss: 0.000369122931210818\n",
      "Total Testing MSELoss: 0.0017688043881207705\n",
      "Total Time Elapsed: 0.8222651000000099 seconds\n",
      "\n",
      "<built-in method type of Tensor object at 0x00000202D90F0270>\n",
      "Epoch 31/50 Done, Total Training MSE Loss: 0.00029245261636218515\n",
      "Total Testing MSELoss: 0.0010498901829123497\n",
      "Total Time Elapsed: 0.8211038999999971 seconds\n",
      "\n",
      "<built-in method type of Tensor object at 0x00000202D90F80E0>\n",
      "Epoch 32/50 Done, Total Training MSE Loss: 0.00045452414261679943\n",
      "Total Testing MSELoss: 0.00019654691277537495\n",
      "Total Time Elapsed: 0.8187211999999988 seconds\n",
      "\n",
      "<built-in method type of Tensor object at 0x00000202D90F92C0>\n",
      "Epoch 33/50 Done, Total Training MSE Loss: 0.0006783536431772358\n",
      "Total Testing MSELoss: 0.0013843835331499577\n",
      "Total Time Elapsed: 0.8317818999999815 seconds\n",
      "\n",
      "<built-in method type of Tensor object at 0x00000202D90FB2C0>\n",
      "Epoch 34/50 Done, Total Training MSE Loss: 0.0006763532356462048\n",
      "Total Testing MSELoss: 0.0029198143165558577\n",
      "Total Time Elapsed: 0.8260658000000092 seconds\n",
      "\n",
      "<built-in method type of Tensor object at 0x00000202D90C02C0>\n",
      "Epoch 35/50 Done, Total Training MSE Loss: 0.0007996599949195285\n",
      "Total Testing MSELoss: 0.004975867923349142\n",
      "Total Time Elapsed: 0.8820721000000162 seconds\n",
      "\n",
      "<built-in method type of Tensor object at 0x00000202D90E42C0>\n",
      "Epoch 36/50 Done, Total Training MSE Loss: 0.00033236348479097084\n",
      "Total Testing MSELoss: 0.0009650500724092126\n",
      "Total Time Elapsed: 0.7797386999999958 seconds\n",
      "\n",
      "<built-in method type of Tensor object at 0x00000202D90EA2C0>\n",
      "Epoch 37/50 Done, Total Training MSE Loss: 0.0005447100315455368\n",
      "Total Testing MSELoss: 0.00281024188734591\n",
      "Total Time Elapsed: 0.8097580000000164 seconds\n",
      "\n",
      "<built-in method type of Tensor object at 0x00000202D90E92C0>\n",
      "Epoch 38/50 Done, Total Training MSE Loss: 0.0011707933875956\n",
      "Total Testing MSELoss: 0.002771668368950486\n",
      "Total Time Elapsed: 0.790272299999998 seconds\n",
      "\n",
      "<built-in method type of Tensor object at 0x00000202D90F52C0>\n",
      "Epoch 39/50 Done, Total Training MSE Loss: 0.0006299599882258118\n",
      "Total Testing MSELoss: 0.003705377224832773\n",
      "Total Time Elapsed: 0.8400710999999887 seconds\n",
      "\n",
      "<built-in method type of Tensor object at 0x00000202D90EE220>\n",
      "Epoch 40/50 Done, Total Training MSE Loss: 0.0007420794163708407\n",
      "Total Testing MSELoss: 0.002711423672735691\n",
      "Total Time Elapsed: 0.84238670000002 seconds\n",
      "\n",
      "<built-in method type of Tensor object at 0x00000202D90E82C0>\n",
      "Epoch 41/50 Done, Total Training MSE Loss: 0.0006847946532326495\n",
      "Total Testing MSELoss: 0.0013679570984095335\n",
      "Total Time Elapsed: 0.8591437000000042 seconds\n",
      "\n",
      "<built-in method type of Tensor object at 0x00000202D90EF0E0>\n",
      "Epoch 42/50 Done, Total Training MSE Loss: 0.000403085725278348\n",
      "Total Testing MSELoss: 0.001643110648728907\n",
      "Total Time Elapsed: 1.4964722999999935 seconds\n",
      "\n",
      "<built-in method type of Tensor object at 0x00000202D90F3220>\n",
      "Epoch 43/50 Done, Total Training MSE Loss: 0.00041166268328107525\n",
      "Total Testing MSELoss: 0.0019368052016943693\n",
      "Total Time Elapsed: 0.9961871000000144 seconds\n",
      "\n",
      "<built-in method type of Tensor object at 0x00000202D90F92C0>\n",
      "Epoch 44/50 Done, Total Training MSE Loss: 0.00039351247619628997\n",
      "Total Testing MSELoss: 0.0011875948403030634\n",
      "Total Time Elapsed: 0.8504192999999987 seconds\n",
      "\n",
      "<built-in method type of Tensor object at 0x00000202D90FA2C0>\n",
      "Epoch 45/50 Done, Total Training MSE Loss: 0.00028258538457141564\n",
      "Total Testing MSELoss: 0.0009529268718324602\n",
      "Total Time Elapsed: 0.8483361000000116 seconds\n",
      "\n",
      "<built-in method type of Tensor object at 0x00000202D22D42C0>\n",
      "Epoch 46/50 Done, Total Training MSE Loss: 0.0002570939772400319\n",
      "Total Testing MSELoss: 0.0015324774431064725\n",
      "Total Time Elapsed: 0.798343100000011 seconds\n",
      "\n",
      "<built-in method type of Tensor object at 0x00000202D22E7090>\n",
      "Epoch 47/50 Done, Total Training MSE Loss: 0.00036575959453769897\n",
      "Total Testing MSELoss: 0.0028567323461174965\n",
      "Total Time Elapsed: 0.8369437000000062 seconds\n",
      "\n",
      "<built-in method type of Tensor object at 0x00000202D22F4270>\n",
      "Epoch 48/50 Done, Total Training MSE Loss: 0.000793416494691353\n",
      "Total Testing MSELoss: 0.00010181999823544174\n",
      "Total Time Elapsed: 0.8932117999999889 seconds\n",
      "\n",
      "<built-in method type of Tensor object at 0x00000202D22F3090>\n",
      "Epoch 49/50 Done, Total Training MSE Loss: 0.00037324123667741124\n",
      "Total Testing MSELoss: 0.002027832204475999\n",
      "Total Time Elapsed: 0.8821611000000189 seconds\n",
      "\n",
      "<built-in method type of Tensor object at 0x00000202D22E6270>\n",
      "Epoch 50/50 Done, Total Training MSE Loss: 0.0005276545289634269\n",
      "Total Testing MSELoss: 4.2145147745031863e-05\n",
      "Total Time Elapsed: 0.839025399999997 seconds\n",
      "\n",
      "Total Training Time: 43.02207430000004 seconds\n",
      "Starting Training of RNN model\n",
      "<built-in method type of Tensor object at 0x00000202D11DE590>\n",
      "Epoch 1/50 Done, Total Training L1 Loss: 0.16683419086653126\n"
     ]
    },
    {
     "ename": "KeyboardInterrupt",
     "evalue": "",
     "output_type": "error",
     "traceback": [
      "\u001b[1;31m---------------------------------------------------------------------------\u001b[0m",
      "\u001b[1;31mKeyboardInterrupt\u001b[0m                         Traceback (most recent call last)",
      "\u001b[1;32m~\\AppData\\Local\\Temp/ipykernel_26228/3542319066.py\u001b[0m in \u001b[0;36m<module>\u001b[1;34m\u001b[0m\n\u001b[1;32m----> 1\u001b[1;33m \u001b[0mtrain\u001b[0m\u001b[1;33m.\u001b[0m\u001b[0mrun\u001b[0m\u001b[1;33m(\u001b[0m\u001b[0martificial_data1\u001b[0m\u001b[1;33m,\u001b[0m \u001b[0martificial_data1_column_i\u001b[0m\u001b[1;33m,\u001b[0m \u001b[0martificial_data1_name\u001b[0m\u001b[1;33m,\u001b[0m \u001b[0martificial_data1_date\u001b[0m\u001b[1;33m,\u001b[0m \u001b[0mnetwork\u001b[0m\u001b[1;33m,\u001b[0m \u001b[0mmodel_name\u001b[0m\u001b[1;33m)\u001b[0m\u001b[1;33m\u001b[0m\u001b[1;33m\u001b[0m\u001b[0m\n\u001b[0m",
      "\u001b[1;32mg:\\Other computers\\My Computer (2)\\COLLEGE STUFF\\Fall 2021\\CSC 240\\Final Project\\src\\model\\consolidation\\train.py\u001b[0m in \u001b[0;36mrun\u001b[1;34m(dataset_df, column_i, dataset_name, date_column, network, model_type, batch_size)\u001b[0m\n\u001b[0;32m    182\u001b[0m     \u001b[0mlr\u001b[0m \u001b[1;33m=\u001b[0m \u001b[1;36m0.001\u001b[0m\u001b[1;33m\u001b[0m\u001b[1;33m\u001b[0m\u001b[0m\n\u001b[0;32m    183\u001b[0m     \u001b[0mmodel\u001b[0m\u001b[1;33m,\u001b[0m \u001b[0mmseloss_train\u001b[0m\u001b[1;33m,\u001b[0m \u001b[0mmseloss_test\u001b[0m\u001b[1;33m,\u001b[0m \u001b[0mpredictions\u001b[0m\u001b[1;33m,\u001b[0m \u001b[0mvalues\u001b[0m \u001b[1;33m=\u001b[0m \u001b[0mtrain\u001b[0m\u001b[1;33m(\u001b[0m\u001b[0mtrain_loader\u001b[0m\u001b[1;33m,\u001b[0m \u001b[0mtest_loader\u001b[0m\u001b[1;33m,\u001b[0m \u001b[0mlr\u001b[0m\u001b[1;33m,\u001b[0m \u001b[0mnetwork\u001b[0m\u001b[1;33m,\u001b[0m \u001b[0mmodel_type\u001b[0m\u001b[1;33m,\u001b[0m \u001b[0mbatch_size\u001b[0m\u001b[1;33m=\u001b[0m\u001b[0mbatch_size\u001b[0m\u001b[1;33m,\u001b[0m \u001b[0mEPOCHS\u001b[0m\u001b[1;33m=\u001b[0m\u001b[1;36m50\u001b[0m\u001b[1;33m,\u001b[0m \u001b[0mloss_func\u001b[0m\u001b[1;33m=\u001b[0m\u001b[1;34m\"mse\"\u001b[0m\u001b[1;33m)\u001b[0m\u001b[1;33m\u001b[0m\u001b[1;33m\u001b[0m\u001b[0m\n\u001b[1;32m--> 184\u001b[1;33m     \u001b[0mmodel\u001b[0m\u001b[1;33m,\u001b[0m \u001b[0ml1loss_train\u001b[0m\u001b[1;33m,\u001b[0m \u001b[0ml1loss_test\u001b[0m\u001b[1;33m,\u001b[0m \u001b[0mpredictions_l1\u001b[0m\u001b[1;33m,\u001b[0m \u001b[0mvalues_l1\u001b[0m \u001b[1;33m=\u001b[0m \u001b[0mtrain\u001b[0m\u001b[1;33m(\u001b[0m\u001b[0mtrain_loader\u001b[0m\u001b[1;33m,\u001b[0m \u001b[0mtest_loader\u001b[0m\u001b[1;33m,\u001b[0m \u001b[0mlr\u001b[0m\u001b[1;33m,\u001b[0m \u001b[0mnetwork\u001b[0m\u001b[1;33m,\u001b[0m \u001b[0mmodel_type\u001b[0m\u001b[1;33m,\u001b[0m \u001b[0mbatch_size\u001b[0m\u001b[1;33m=\u001b[0m\u001b[0mbatch_size\u001b[0m\u001b[1;33m,\u001b[0m \u001b[0mEPOCHS\u001b[0m\u001b[1;33m=\u001b[0m\u001b[1;36m50\u001b[0m\u001b[1;33m,\u001b[0m \u001b[0mloss_func\u001b[0m\u001b[1;33m=\u001b[0m\u001b[1;34m\"l1\"\u001b[0m\u001b[1;33m)\u001b[0m\u001b[1;33m\u001b[0m\u001b[1;33m\u001b[0m\u001b[0m\n\u001b[0m\u001b[0;32m    185\u001b[0m \u001b[1;33m\u001b[0m\u001b[0m\n\u001b[0;32m    186\u001b[0m     \u001b[0mplot\u001b[0m\u001b[1;33m(\u001b[0m\u001b[0mpredictions\u001b[0m\u001b[1;33m,\u001b[0m \u001b[0mvalues\u001b[0m\u001b[1;33m,\u001b[0m \u001b[0mdataset_name\u001b[0m\u001b[1;33m)\u001b[0m\u001b[1;33m\u001b[0m\u001b[1;33m\u001b[0m\u001b[0m\n",
      "\u001b[1;32mg:\\Other computers\\My Computer (2)\\COLLEGE STUFF\\Fall 2021\\CSC 240\\Final Project\\src\\model\\consolidation\\train.py\u001b[0m in \u001b[0;36mtrain\u001b[1;34m(train_loader, test_loader, learn_rate, network, model_type, batch_size, hidden_dim, EPOCHS, loss_func)\u001b[0m\n\u001b[0;32m     90\u001b[0m             \u001b[0mmodel\u001b[0m\u001b[1;33m.\u001b[0m\u001b[0mzero_grad\u001b[0m\u001b[1;33m(\u001b[0m\u001b[1;33m)\u001b[0m\u001b[1;33m\u001b[0m\u001b[1;33m\u001b[0m\u001b[0m\n\u001b[0;32m     91\u001b[0m \u001b[1;33m\u001b[0m\u001b[0m\n\u001b[1;32m---> 92\u001b[1;33m             \u001b[0mout\u001b[0m\u001b[1;33m,\u001b[0m \u001b[0mh\u001b[0m \u001b[1;33m=\u001b[0m \u001b[0mmodel\u001b[0m\u001b[1;33m.\u001b[0m\u001b[0mforward\u001b[0m\u001b[1;33m(\u001b[0m\u001b[0mx\u001b[0m\u001b[1;33m.\u001b[0m\u001b[0mfloat\u001b[0m\u001b[1;33m(\u001b[0m\u001b[1;33m)\u001b[0m\u001b[1;33m,\u001b[0m \u001b[0mh\u001b[0m\u001b[1;33m)\u001b[0m\u001b[1;33m\u001b[0m\u001b[1;33m\u001b[0m\u001b[0m\n\u001b[0m\u001b[0;32m     93\u001b[0m             \u001b[0mloss2\u001b[0m \u001b[1;33m=\u001b[0m \u001b[0mcriterion\u001b[0m\u001b[1;33m(\u001b[0m\u001b[0mout\u001b[0m\u001b[1;33m,\u001b[0m \u001b[0mlabel\u001b[0m\u001b[1;33m.\u001b[0m\u001b[0mfloat\u001b[0m\u001b[1;33m(\u001b[0m\u001b[1;33m)\u001b[0m\u001b[1;33m)\u001b[0m\u001b[1;33m.\u001b[0m\u001b[0mitem\u001b[0m\u001b[1;33m(\u001b[0m\u001b[1;33m)\u001b[0m\u001b[1;33m\u001b[0m\u001b[1;33m\u001b[0m\u001b[0m\n\u001b[0;32m     94\u001b[0m             \u001b[0mavg_loss2\u001b[0m \u001b[1;33m+=\u001b[0m \u001b[0mloss2\u001b[0m\u001b[1;33m\u001b[0m\u001b[1;33m\u001b[0m\u001b[0m\n",
      "\u001b[1;32m~\\AppData\\Local\\Temp/ipykernel_26228/3323341640.py\u001b[0m in \u001b[0;36mforward\u001b[1;34m(self, x, h)\u001b[0m\n\u001b[0;32m     17\u001b[0m     \u001b[1;32mdef\u001b[0m \u001b[0mforward\u001b[0m\u001b[1;33m(\u001b[0m\u001b[0mself\u001b[0m\u001b[1;33m,\u001b[0m \u001b[0mx\u001b[0m\u001b[1;33m,\u001b[0m \u001b[0mh\u001b[0m\u001b[1;33m)\u001b[0m\u001b[1;33m:\u001b[0m\u001b[1;33m\u001b[0m\u001b[1;33m\u001b[0m\u001b[0m\n\u001b[0;32m     18\u001b[0m         \u001b[0mout\u001b[0m\u001b[1;33m,\u001b[0m \u001b[0mh\u001b[0m \u001b[1;33m=\u001b[0m \u001b[0mself\u001b[0m\u001b[1;33m.\u001b[0m\u001b[0mrnn\u001b[0m\u001b[1;33m(\u001b[0m\u001b[0mx\u001b[0m\u001b[1;33m,\u001b[0m \u001b[0mh\u001b[0m\u001b[1;33m)\u001b[0m\u001b[1;33m\u001b[0m\u001b[1;33m\u001b[0m\u001b[0m\n\u001b[1;32m---> 19\u001b[1;33m         \u001b[0mout\u001b[0m \u001b[1;33m=\u001b[0m \u001b[0mself\u001b[0m\u001b[1;33m.\u001b[0m\u001b[0mfc\u001b[0m\u001b[1;33m(\u001b[0m\u001b[0mself\u001b[0m\u001b[1;33m.\u001b[0m\u001b[0mrelu\u001b[0m\u001b[1;33m(\u001b[0m\u001b[0mout\u001b[0m\u001b[1;33m[\u001b[0m\u001b[1;33m:\u001b[0m\u001b[1;33m,\u001b[0m\u001b[1;33m-\u001b[0m\u001b[1;36m1\u001b[0m\u001b[1;33m]\u001b[0m\u001b[1;33m)\u001b[0m\u001b[1;33m)\u001b[0m\u001b[1;33m\u001b[0m\u001b[1;33m\u001b[0m\u001b[0m\n\u001b[0m\u001b[0;32m     20\u001b[0m         \u001b[1;32mreturn\u001b[0m \u001b[0mout\u001b[0m\u001b[1;33m,\u001b[0m \u001b[0mh\u001b[0m\u001b[1;33m\u001b[0m\u001b[1;33m\u001b[0m\u001b[0m\n\u001b[0;32m     21\u001b[0m \u001b[1;33m\u001b[0m\u001b[0m\n",
      "\u001b[1;32m~\\AppData\\Local\\Programs\\Python\\Python38\\lib\\site-packages\\torch\\nn\\modules\\module.py\u001b[0m in \u001b[0;36m_call_impl\u001b[1;34m(self, *input, **kwargs)\u001b[0m\n\u001b[0;32m   1100\u001b[0m         if not (self._backward_hooks or self._forward_hooks or self._forward_pre_hooks or _global_backward_hooks\n\u001b[0;32m   1101\u001b[0m                 or _global_forward_hooks or _global_forward_pre_hooks):\n\u001b[1;32m-> 1102\u001b[1;33m             \u001b[1;32mreturn\u001b[0m \u001b[0mforward_call\u001b[0m\u001b[1;33m(\u001b[0m\u001b[1;33m*\u001b[0m\u001b[0minput\u001b[0m\u001b[1;33m,\u001b[0m \u001b[1;33m**\u001b[0m\u001b[0mkwargs\u001b[0m\u001b[1;33m)\u001b[0m\u001b[1;33m\u001b[0m\u001b[1;33m\u001b[0m\u001b[0m\n\u001b[0m\u001b[0;32m   1103\u001b[0m         \u001b[1;31m# Do not call functions when jit is used\u001b[0m\u001b[1;33m\u001b[0m\u001b[1;33m\u001b[0m\u001b[1;33m\u001b[0m\u001b[0m\n\u001b[0;32m   1104\u001b[0m         \u001b[0mfull_backward_hooks\u001b[0m\u001b[1;33m,\u001b[0m \u001b[0mnon_full_backward_hooks\u001b[0m \u001b[1;33m=\u001b[0m \u001b[1;33m[\u001b[0m\u001b[1;33m]\u001b[0m\u001b[1;33m,\u001b[0m \u001b[1;33m[\u001b[0m\u001b[1;33m]\u001b[0m\u001b[1;33m\u001b[0m\u001b[1;33m\u001b[0m\u001b[0m\n",
      "\u001b[1;32m~\\AppData\\Local\\Programs\\Python\\Python38\\lib\\site-packages\\torch\\nn\\modules\\linear.py\u001b[0m in \u001b[0;36mforward\u001b[1;34m(self, input)\u001b[0m\n\u001b[0;32m    101\u001b[0m \u001b[1;33m\u001b[0m\u001b[0m\n\u001b[0;32m    102\u001b[0m     \u001b[1;32mdef\u001b[0m \u001b[0mforward\u001b[0m\u001b[1;33m(\u001b[0m\u001b[0mself\u001b[0m\u001b[1;33m,\u001b[0m \u001b[0minput\u001b[0m\u001b[1;33m:\u001b[0m \u001b[0mTensor\u001b[0m\u001b[1;33m)\u001b[0m \u001b[1;33m->\u001b[0m \u001b[0mTensor\u001b[0m\u001b[1;33m:\u001b[0m\u001b[1;33m\u001b[0m\u001b[1;33m\u001b[0m\u001b[0m\n\u001b[1;32m--> 103\u001b[1;33m         \u001b[1;32mreturn\u001b[0m \u001b[0mF\u001b[0m\u001b[1;33m.\u001b[0m\u001b[0mlinear\u001b[0m\u001b[1;33m(\u001b[0m\u001b[0minput\u001b[0m\u001b[1;33m,\u001b[0m \u001b[0mself\u001b[0m\u001b[1;33m.\u001b[0m\u001b[0mweight\u001b[0m\u001b[1;33m,\u001b[0m \u001b[0mself\u001b[0m\u001b[1;33m.\u001b[0m\u001b[0mbias\u001b[0m\u001b[1;33m)\u001b[0m\u001b[1;33m\u001b[0m\u001b[1;33m\u001b[0m\u001b[0m\n\u001b[0m\u001b[0;32m    104\u001b[0m \u001b[1;33m\u001b[0m\u001b[0m\n\u001b[0;32m    105\u001b[0m     \u001b[1;32mdef\u001b[0m \u001b[0mextra_repr\u001b[0m\u001b[1;33m(\u001b[0m\u001b[0mself\u001b[0m\u001b[1;33m)\u001b[0m \u001b[1;33m->\u001b[0m \u001b[0mstr\u001b[0m\u001b[1;33m:\u001b[0m\u001b[1;33m\u001b[0m\u001b[1;33m\u001b[0m\u001b[0m\n",
      "\u001b[1;32m~\\AppData\\Local\\Programs\\Python\\Python38\\lib\\site-packages\\torch\\nn\\functional.py\u001b[0m in \u001b[0;36mlinear\u001b[1;34m(input, weight, bias)\u001b[0m\n\u001b[0;32m   1846\u001b[0m     \u001b[1;32mif\u001b[0m \u001b[0mhas_torch_function_variadic\u001b[0m\u001b[1;33m(\u001b[0m\u001b[0minput\u001b[0m\u001b[1;33m,\u001b[0m \u001b[0mweight\u001b[0m\u001b[1;33m,\u001b[0m \u001b[0mbias\u001b[0m\u001b[1;33m)\u001b[0m\u001b[1;33m:\u001b[0m\u001b[1;33m\u001b[0m\u001b[1;33m\u001b[0m\u001b[0m\n\u001b[0;32m   1847\u001b[0m         \u001b[1;32mreturn\u001b[0m \u001b[0mhandle_torch_function\u001b[0m\u001b[1;33m(\u001b[0m\u001b[0mlinear\u001b[0m\u001b[1;33m,\u001b[0m \u001b[1;33m(\u001b[0m\u001b[0minput\u001b[0m\u001b[1;33m,\u001b[0m \u001b[0mweight\u001b[0m\u001b[1;33m,\u001b[0m \u001b[0mbias\u001b[0m\u001b[1;33m)\u001b[0m\u001b[1;33m,\u001b[0m \u001b[0minput\u001b[0m\u001b[1;33m,\u001b[0m \u001b[0mweight\u001b[0m\u001b[1;33m,\u001b[0m \u001b[0mbias\u001b[0m\u001b[1;33m=\u001b[0m\u001b[0mbias\u001b[0m\u001b[1;33m)\u001b[0m\u001b[1;33m\u001b[0m\u001b[1;33m\u001b[0m\u001b[0m\n\u001b[1;32m-> 1848\u001b[1;33m     \u001b[1;32mreturn\u001b[0m \u001b[0mtorch\u001b[0m\u001b[1;33m.\u001b[0m\u001b[0m_C\u001b[0m\u001b[1;33m.\u001b[0m\u001b[0m_nn\u001b[0m\u001b[1;33m.\u001b[0m\u001b[0mlinear\u001b[0m\u001b[1;33m(\u001b[0m\u001b[0minput\u001b[0m\u001b[1;33m,\u001b[0m \u001b[0mweight\u001b[0m\u001b[1;33m,\u001b[0m \u001b[0mbias\u001b[0m\u001b[1;33m)\u001b[0m\u001b[1;33m\u001b[0m\u001b[1;33m\u001b[0m\u001b[0m\n\u001b[0m\u001b[0;32m   1849\u001b[0m \u001b[1;33m\u001b[0m\u001b[0m\n\u001b[0;32m   1850\u001b[0m \u001b[1;33m\u001b[0m\u001b[0m\n",
      "\u001b[1;31mKeyboardInterrupt\u001b[0m: "
     ]
    }
   ],
   "source": [
    "train.run(artificial_data1, artificial_data1_column_i, artificial_data1_name, artificial_data1_date, network, model_name)"
   ]
  },
  {
   "cell_type": "markdown",
   "metadata": {},
   "source": [
    "## Artificial Data 2"
   ]
  },
  {
   "cell_type": "code",
   "execution_count": null,
   "metadata": {},
   "outputs": [],
   "source": [
    "train.run(artificial_data2, artificial_data2_column_i, artificial_data2_name, artificial_data2_date, network, model_name)"
   ]
  },
  {
   "cell_type": "markdown",
   "metadata": {},
   "source": [
    "## Microsoft Stock Price"
   ]
  },
  {
   "cell_type": "code",
   "execution_count": null,
   "metadata": {},
   "outputs": [],
   "source": [
    "train.run(msft_data, msft_column_i, msft_name, msft_date, network, model_name)"
   ]
  },
  {
   "cell_type": "markdown",
   "metadata": {},
   "source": [
    "## Crude oil price"
   ]
  },
  {
   "cell_type": "code",
   "execution_count": null,
   "metadata": {},
   "outputs": [],
   "source": [
    "train.run(oil_data, oil_column_i, oil_name, oil_date, network, model_name)"
   ]
  },
  {
   "cell_type": "markdown",
   "metadata": {},
   "source": [
    "## S&P 500 Index"
   ]
  },
  {
   "cell_type": "code",
   "execution_count": null,
   "metadata": {},
   "outputs": [],
   "source": [
    "train.run(sp500_data, sp500_column_i, sp500_name, sp500_date, network, model_name)"
   ]
  },
  {
   "cell_type": "markdown",
   "metadata": {},
   "source": [
    "## Bitcoin price"
   ]
  },
  {
   "cell_type": "code",
   "execution_count": null,
   "metadata": {},
   "outputs": [],
   "source": [
    "train.run(bitcoin_data, bitcoin_column_i, bitcoin_name, bitcoin_date, network, model_name)"
   ]
  },
  {
   "cell_type": "markdown",
   "metadata": {},
   "source": [
    "# Bidirectional RNN"
   ]
  },
  {
   "cell_type": "code",
   "execution_count": null,
   "metadata": {},
   "outputs": [],
   "source": [
    "class biRNN(nn.Module):\n",
    "    def __init__(self, input_dim, hidden_dim, num_layers, output_dim):\n",
    "        super(biRNN, self).__init__()\n",
    "        self.hidden_dim = hidden_dim\n",
    "        self.num_layers = num_layers\n",
    "        \n",
    "        self.biRNN = nn.RNN(input_dim, hidden_dim, num_layers, batch_first=True, bidirectional=True)\n",
    "        self.fc = nn.Linear(hidden_dim*2, output_dim)\n",
    "\n",
    "    def forward(self, x, h):\n",
    "        # h0 = torch.zeros(self.num_layers*2, x.size(0), self.hidden_dim).requires_grad_()\n",
    "        # c0 = torch.zeros(self.num_layers, x.size(0), self.hidden_dim).requires_grad_()\n",
    "        out, h = self.biRNN(x, h)\n",
    "        out = self.fc(out[:, -1, :]) \n",
    "        return out, h\n",
    "\n",
    "    def init_hidden(self, batch_size):\n",
    "        #generates the first hidden state of zeros used in the forward pass\n",
    "        weight = next(self.parameters()).data\n",
    "        hidden = weight.new(self.num_layers*2, batch_size, self.hidden_dim).zero_()\n",
    "        return hidden"
   ]
  },
  {
   "cell_type": "code",
   "execution_count": null,
   "metadata": {},
   "outputs": [],
   "source": [
    "refresh_data()\n",
    "network = biRNN\n",
    "model_name = \"Bidirectional RNN\""
   ]
  },
  {
   "cell_type": "markdown",
   "metadata": {},
   "source": [
    "## Artificial Data 1"
   ]
  },
  {
   "cell_type": "code",
   "execution_count": null,
   "metadata": {},
   "outputs": [],
   "source": [
    "train.run(artificial_data1, artificial_data1_column_i, artificial_data1_name, artificial_data1_date, network, model_name)"
   ]
  },
  {
   "cell_type": "markdown",
   "metadata": {},
   "source": [
    "## Artificial Data 2"
   ]
  },
  {
   "cell_type": "code",
   "execution_count": null,
   "metadata": {},
   "outputs": [],
   "source": [
    "train.run(artificial_data2, artificial_data2_column_i, artificial_data2_name, artificial_data2_date, network, model_name)"
   ]
  },
  {
   "cell_type": "markdown",
   "metadata": {},
   "source": [
    "## Microsoft Stock Price"
   ]
  },
  {
   "cell_type": "code",
   "execution_count": null,
   "metadata": {},
   "outputs": [],
   "source": [
    "train.run(msft_data, msft_column_i, msft_name, msft_date, network, model_name)"
   ]
  },
  {
   "cell_type": "markdown",
   "metadata": {},
   "source": [
    "## Crude oil price"
   ]
  },
  {
   "cell_type": "code",
   "execution_count": null,
   "metadata": {},
   "outputs": [],
   "source": [
    "train.run(oil_data, oil_column_i, oil_name, oil_date, network, model_name)"
   ]
  },
  {
   "cell_type": "markdown",
   "metadata": {},
   "source": [
    "## S&P 500 Index"
   ]
  },
  {
   "cell_type": "code",
   "execution_count": null,
   "metadata": {},
   "outputs": [],
   "source": [
    "train.run(sp500_data, sp500_column_i, sp500_name, sp500_date, network, model_name)"
   ]
  },
  {
   "cell_type": "markdown",
   "metadata": {},
   "source": [
    "## Bitcoin price"
   ]
  },
  {
   "cell_type": "code",
   "execution_count": null,
   "metadata": {},
   "outputs": [],
   "source": [
    "train.run(bitcoin_data, bitcoin_column_i, bitcoin_name, bitcoin_date, network, model_name)"
   ]
  },
  {
   "cell_type": "markdown",
   "metadata": {},
   "source": [
    "# Gated Recurrent Unit (GRU)"
   ]
  },
  {
   "cell_type": "code",
   "execution_count": null,
   "metadata": {},
   "outputs": [],
   "source": [
    "class GRU(nn.Module):\n",
    "    def __init__(self, input_dim, hidden_dim, output_dim, n_layers, drop_prob=0.1):\n",
    "        super(GRU, self).__init__()\n",
    "        self.hidden_dim = hidden_dim\n",
    "        self.n_layers = n_layers\n",
    "        \n",
    "        self.gru = nn.GRU(input_dim, hidden_dim, n_layers, batch_first=True, dropout=drop_prob)\n",
    "        self.fc = nn.Linear(hidden_dim, output_dim)\n",
    "        self.relu = nn.ReLU()\n",
    "        \n",
    "    def forward(self, x, h):\n",
    "        out, h = self.gru(x, h)\n",
    "        out = self.fc(out[:,-1])\n",
    "        return out, h\n",
    "    \n",
    "    def init_hidden(self, batch_size):\n",
    "        weight = next(self.parameters()).data\n",
    "        hidden = weight.new(self.n_layers, batch_size, self.hidden_dim).zero_()\n",
    "        return hidden"
   ]
  },
  {
   "cell_type": "code",
   "execution_count": null,
   "metadata": {},
   "outputs": [],
   "source": [
    "refresh_data()\n",
    "network = GRU\n",
    "model_name = \"GRU\""
   ]
  },
  {
   "cell_type": "markdown",
   "metadata": {},
   "source": [
    "## Artificial Data 1"
   ]
  },
  {
   "cell_type": "code",
   "execution_count": null,
   "metadata": {},
   "outputs": [],
   "source": [
    "train.run(artificial_data1, artificial_data1_column_i, artificial_data1_name, artificial_data1_date, network, model_name)"
   ]
  },
  {
   "cell_type": "markdown",
   "metadata": {},
   "source": [
    "## Artificial Data 2"
   ]
  },
  {
   "cell_type": "code",
   "execution_count": null,
   "metadata": {},
   "outputs": [],
   "source": [
    "train.run(artificial_data2, artificial_data2_column_i, artificial_data2_name, artificial_data2_date, network, model_name)"
   ]
  },
  {
   "cell_type": "markdown",
   "metadata": {},
   "source": [
    "## Microsoft Stock Price"
   ]
  },
  {
   "cell_type": "code",
   "execution_count": null,
   "metadata": {},
   "outputs": [],
   "source": [
    "train.run(msft_data, msft_column_i, msft_name, msft_date, network, model_name)"
   ]
  },
  {
   "cell_type": "markdown",
   "metadata": {},
   "source": [
    "## Crude oil price"
   ]
  },
  {
   "cell_type": "code",
   "execution_count": null,
   "metadata": {},
   "outputs": [],
   "source": [
    "train.run(oil_data, oil_column_i, oil_name, oil_date, network, model_name)"
   ]
  },
  {
   "cell_type": "markdown",
   "metadata": {},
   "source": [
    "## S&P 500 Index"
   ]
  },
  {
   "cell_type": "code",
   "execution_count": null,
   "metadata": {},
   "outputs": [],
   "source": [
    "train.run(sp500_data, sp500_column_i, sp500_name, sp500_date, network, model_name)"
   ]
  },
  {
   "cell_type": "markdown",
   "metadata": {},
   "source": [
    "## Bitcoin price"
   ]
  },
  {
   "cell_type": "code",
   "execution_count": null,
   "metadata": {},
   "outputs": [],
   "source": [
    "train.run(bitcoin_data, bitcoin_column_i, bitcoin_name, bitcoin_date, network, model_name)"
   ]
  },
  {
   "cell_type": "markdown",
   "metadata": {},
   "source": [
    "# Long-Short Term Memory"
   ]
  },
  {
   "cell_type": "code",
   "execution_count": null,
   "metadata": {},
   "outputs": [],
   "source": [
    "class LSTM(nn.Module):\n",
    "    def __init__(self, input_dim, hidden_dim, num_layers, output_dim):\n",
    "        super(LSTM, self).__init__()\n",
    "        self.hidden_dim = hidden_dim\n",
    "        self.num_layers = num_layers\n",
    "        \n",
    "        self.lstm = nn.LSTM(input_dim, hidden_dim, num_layers, batch_first=True)\n",
    "        self.fc = nn.Linear(hidden_dim, output_dim)\n",
    "    def forward(self, x, ph):\n",
    "        h0 = torch.zeros(self.num_layers, x.size(0), self.hidden_dim).requires_grad_()\n",
    "        c0 = torch.zeros(self.num_layers, x.size(0), self.hidden_dim).requires_grad_()\n",
    "        out, (hn, cn) = self.lstm(x, (h0.detach(), c0.detach()))\n",
    "        out = self.fc(out[:, -1, :]) \n",
    "        return out, hn\n",
    "\n",
    "    def init_hidden(self, batch_size):\n",
    "        weight = next(self.parameters()).data\n",
    "        hidden = weight.new(0, 0, 0).zero_()\n",
    "        return hidden"
   ]
  },
  {
   "cell_type": "code",
   "execution_count": null,
   "metadata": {},
   "outputs": [],
   "source": [
    "refresh_data()\n",
    "network = LSTM\n",
    "model_name = \"LSTM\""
   ]
  },
  {
   "cell_type": "markdown",
   "metadata": {},
   "source": [
    "## Artificial Data 1"
   ]
  },
  {
   "cell_type": "code",
   "execution_count": null,
   "metadata": {},
   "outputs": [],
   "source": [
    "train.run(artificial_data1, artificial_data1_column_i, artificial_data1_name, artificial_data1_date, network, model_name)"
   ]
  },
  {
   "cell_type": "markdown",
   "metadata": {},
   "source": [
    "## Artificial Data 2"
   ]
  },
  {
   "cell_type": "code",
   "execution_count": null,
   "metadata": {},
   "outputs": [],
   "source": [
    "train.run(artificial_data2, artificial_data2_column_i, artificial_data2_name, artificial_data2_date, network, model_name)"
   ]
  },
  {
   "cell_type": "markdown",
   "metadata": {},
   "source": [
    "## Microsoft Stock Price"
   ]
  },
  {
   "cell_type": "code",
   "execution_count": null,
   "metadata": {},
   "outputs": [],
   "source": [
    "train.run(msft_data, msft_column_i, msft_name, msft_date, network, model_name)"
   ]
  },
  {
   "cell_type": "markdown",
   "metadata": {},
   "source": [
    "## Crude oil price"
   ]
  },
  {
   "cell_type": "code",
   "execution_count": null,
   "metadata": {},
   "outputs": [],
   "source": [
    "train.run(oil_data, oil_column_i, oil_name, oil_date, network, model_name)"
   ]
  },
  {
   "cell_type": "markdown",
   "metadata": {},
   "source": [
    "## S&P 500 Index"
   ]
  },
  {
   "cell_type": "code",
   "execution_count": null,
   "metadata": {},
   "outputs": [],
   "source": [
    "train.run(sp500_data, sp500_column_i, sp500_name, sp500_date, network, model_name)"
   ]
  },
  {
   "cell_type": "markdown",
   "metadata": {},
   "source": [
    "## Bitcoin price"
   ]
  },
  {
   "cell_type": "code",
   "execution_count": null,
   "metadata": {},
   "outputs": [],
   "source": [
    "train.run(bitcoin_data, bitcoin_column_i, bitcoin_name, bitcoin_date, network, model_name)"
   ]
  }
 ],
 "metadata": {
  "interpreter": {
   "hash": "5a0607f5c5ed0a628e4f22a2d530471bbebd714a9e839bf9a98578ec6378e18f"
  },
  "kernelspec": {
   "display_name": "Python 3.8.8 64-bit",
   "language": "python",
   "name": "python3"
  },
  "language_info": {
   "codemirror_mode": {
    "name": "ipython",
    "version": 3
   },
   "file_extension": ".py",
   "mimetype": "text/x-python",
   "name": "python",
   "nbconvert_exporter": "python",
   "pygments_lexer": "ipython3",
   "version": "3.8.8"
  },
  "orig_nbformat": 4
 },
 "nbformat": 4,
 "nbformat_minor": 2
}
